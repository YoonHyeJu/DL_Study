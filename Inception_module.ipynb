{
  "nbformat": 4,
  "nbformat_minor": 0,
  "metadata": {
    "colab": {
      "name": "Inception_module.ipynb",
      "provenance": [],
      "authorship_tag": "ABX9TyPGHW+RcrF5KnsWXNYSkVL5",
      "include_colab_link": true
    },
    "kernelspec": {
      "name": "python3",
      "display_name": "Python 3"
    }
  },
  "cells": [
    {
      "cell_type": "markdown",
      "metadata": {
        "id": "view-in-github",
        "colab_type": "text"
      },
      "source": [
        "<a href=\"https://colab.research.google.com/github/YoonHyeJu/project1/blob/master/Inception_module.ipynb\" target=\"_parent\"><img src=\"https://colab.research.google.com/assets/colab-badge.svg\" alt=\"Open In Colab\"/></a>"
      ]
    },
    {
      "cell_type": "code",
      "metadata": {
        "id": "7dY07kgeuyAs",
        "colab_type": "code",
        "colab": {}
      },
      "source": [
        "from keras.models import Model\n",
        "from keras.layers import Conv2D, MaxPooling2D, Dropout, Dense, Input, AveragePooling2D, Flatten, Concatenate\n",
        "from keras import layers\n",
        "import tensorflow as tf\n"
      ],
      "execution_count": 11,
      "outputs": []
    },
    {
      "cell_type": "code",
      "metadata": {
        "id": "qAlPK3qcyVTN",
        "colab_type": "code",
        "colab": {}
      },
      "source": [
        "model = tf.keras.Sequential()"
      ],
      "execution_count": 9,
      "outputs": []
    },
    {
      "cell_type": "code",
      "metadata": {
        "id": "bxovlSebxx2V",
        "colab_type": "code",
        "colab": {}
      },
      "source": [
        "input_shape = (224, 224, 3)\n",
        "\n",
        "input_ = layers.Input(shape=input_shape)\n",
        "x = Conv2D(64, kernel_size=(7,7), padding = 'same', activation='relu')(input_)\n",
        "x = MaxPooling2D(padding='same')(x)\n",
        "\n",
        "y = Conv2D(128, kernel_size=(5,5), strides=(1,1), padding = 'same', activation='relu')(input_)\n",
        "y = MaxPooling2D()(y)\n",
        "y = Conv2D(64, kernel_size=(3,3), strides=(1,1), padding = 'same', activation='relu')(input_)\n",
        "y = MaxPooling2D()(y)\n",
        "y = Conv2D(32, kernel_size=(3,3), strides=(1,1), padding = 'same', activation='relu')(input_)\n",
        "y = MaxPooling2D()(y)\n",
        "\n",
        "z = Conv2D(32, kernel_size=(5,5), strides=(1,1), padding='same', activation='relu')(input_)\n",
        "z = AveragePooling2D()(z)\n",
        "\n",
        "concat_ = Concatenate()([x,y,z])\n",
        "\n",
        "output_ = Flatten()(concat_)\n",
        "output_ = Dense(2, activation='sigmoid')(output_)\n",
        "\n",
        "model = Model(input_, output_)\n"
      ],
      "execution_count": 12,
      "outputs": []
    },
    {
      "cell_type": "code",
      "metadata": {
        "id": "jigJWJQuxCQv",
        "colab_type": "code",
        "colab": {
          "base_uri": "https://localhost:8080/",
          "height": 545
        },
        "outputId": "fa0914f9-0110-4901-ed73-baf7a1f2ba4c"
      },
      "source": [
        "model.summary()"
      ],
      "execution_count": 13,
      "outputs": [
        {
          "output_type": "stream",
          "text": [
            "Model: \"functional_1\"\n",
            "__________________________________________________________________________________________________\n",
            "Layer (type)                    Output Shape         Param #     Connected to                     \n",
            "==================================================================================================\n",
            "input_2 (InputLayer)            [(None, 224, 224, 3) 0                                            \n",
            "__________________________________________________________________________________________________\n",
            "conv2d_1 (Conv2D)               (None, 224, 224, 64) 9472        input_2[0][0]                    \n",
            "__________________________________________________________________________________________________\n",
            "conv2d_4 (Conv2D)               (None, 224, 224, 32) 896         input_2[0][0]                    \n",
            "__________________________________________________________________________________________________\n",
            "conv2d_5 (Conv2D)               (None, 224, 224, 32) 2432        input_2[0][0]                    \n",
            "__________________________________________________________________________________________________\n",
            "max_pooling2d (MaxPooling2D)    (None, 112, 112, 64) 0           conv2d_1[0][0]                   \n",
            "__________________________________________________________________________________________________\n",
            "max_pooling2d_3 (MaxPooling2D)  (None, 112, 112, 32) 0           conv2d_4[0][0]                   \n",
            "__________________________________________________________________________________________________\n",
            "average_pooling2d (AveragePooli (None, 112, 112, 32) 0           conv2d_5[0][0]                   \n",
            "__________________________________________________________________________________________________\n",
            "concatenate (Concatenate)       (None, 112, 112, 128 0           max_pooling2d[0][0]              \n",
            "                                                                 max_pooling2d_3[0][0]            \n",
            "                                                                 average_pooling2d[0][0]          \n",
            "__________________________________________________________________________________________________\n",
            "flatten (Flatten)               (None, 1605632)      0           concatenate[0][0]                \n",
            "__________________________________________________________________________________________________\n",
            "dense (Dense)                   (None, 2)            3211266     flatten[0][0]                    \n",
            "==================================================================================================\n",
            "Total params: 3,224,066\n",
            "Trainable params: 3,224,066\n",
            "Non-trainable params: 0\n",
            "__________________________________________________________________________________________________\n"
          ],
          "name": "stdout"
        }
      ]
    },
    {
      "cell_type": "code",
      "metadata": {
        "id": "Xvsp_3Rj5Pdc",
        "colab_type": "code",
        "colab": {}
      },
      "source": [
        ""
      ],
      "execution_count": null,
      "outputs": []
    }
  ]
}