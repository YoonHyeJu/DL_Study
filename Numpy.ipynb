{
  "nbformat": 4,
  "nbformat_minor": 0,
  "metadata": {
    "colab": {
      "name": "Numpy.ipynb",
      "provenance": [],
      "authorship_tag": "ABX9TyMiiqIo2+OlmK+hOH1/ypkT",
      "include_colab_link": true
    },
    "kernelspec": {
      "name": "python3",
      "display_name": "Python 3"
    }
  },
  "cells": [
    {
      "cell_type": "markdown",
      "metadata": {
        "id": "view-in-github",
        "colab_type": "text"
      },
      "source": [
        "<a href=\"https://colab.research.google.com/github/YoonHyeJu/project1/blob/master/Numpy.ipynb\" target=\"_parent\"><img src=\"https://colab.research.google.com/assets/colab-badge.svg\" alt=\"Open In Colab\"/></a>"
      ]
    },
    {
      "cell_type": "code",
      "metadata": {
        "id": "ZdKWTiFM7PLs",
        "colab_type": "code",
        "colab": {}
      },
      "source": [
        "import numpy as np"
      ],
      "execution_count": 3,
      "outputs": []
    },
    {
      "cell_type": "code",
      "metadata": {
        "id": "dU0Ixu2S7o-U",
        "colab_type": "code",
        "colab": {}
      },
      "source": [
        "# 단일 객체\n",
        "array = np.arange(0,10)\n",
        "np.save('saved.npy', array)"
      ],
      "execution_count": 5,
      "outputs": []
    },
    {
      "cell_type": "code",
      "metadata": {
        "id": "QqQCQz7g7wpq",
        "colab_type": "code",
        "colab": {
          "base_uri": "https://localhost:8080/",
          "height": 34
        },
        "outputId": "7a35e638-df0e-4ec3-be0c-272628bb84af"
      },
      "source": [
        "result = np.load('saved.npy')\n",
        "print(result)"
      ],
      "execution_count": 6,
      "outputs": [
        {
          "output_type": "stream",
          "text": [
            "[0 1 2 3 4 5 6 7 8 9]\n"
          ],
          "name": "stdout"
        }
      ]
    },
    {
      "cell_type": "code",
      "metadata": {
        "id": "99gW8fpT75td",
        "colab_type": "code",
        "colab": {}
      },
      "source": [
        "#복수 객체\n",
        "array1 = np.arange(0,10)\n",
        "array2 = np.arange(10,20)\n",
        "np.savez('saved.npz', array1=array1, array2=array2)"
      ],
      "execution_count": 21,
      "outputs": []
    },
    {
      "cell_type": "code",
      "metadata": {
        "id": "HB0JhvxF8KBJ",
        "colab_type": "code",
        "colab": {}
      },
      "source": [
        "data = np.load('saved.npz')"
      ],
      "execution_count": 25,
      "outputs": []
    },
    {
      "cell_type": "code",
      "metadata": {
        "id": "dglp8CFL8TX4",
        "colab_type": "code",
        "colab": {
          "base_uri": "https://localhost:8080/",
          "height": 34
        },
        "outputId": "6e666447-5ec1-4a29-c5a7-cf2aa07d2306"
      },
      "source": [
        "data['array1']"
      ],
      "execution_count": 27,
      "outputs": [
        {
          "output_type": "execute_result",
          "data": {
            "text/plain": [
              "array([0, 1, 2, 3, 4, 5, 6, 7, 8, 9])"
            ]
          },
          "metadata": {
            "tags": []
          },
          "execution_count": 27
        }
      ]
    },
    {
      "cell_type": "code",
      "metadata": {
        "id": "SvuIKmQE8ocx",
        "colab_type": "code",
        "colab": {
          "base_uri": "https://localhost:8080/",
          "height": 34
        },
        "outputId": "ab85cd2b-72ee-410a-ffe5-82293b72f573"
      },
      "source": [
        "data['array2']"
      ],
      "execution_count": 28,
      "outputs": [
        {
          "output_type": "execute_result",
          "data": {
            "text/plain": [
              "array([10, 11, 12, 13, 14, 15, 16, 17, 18, 19])"
            ]
          },
          "metadata": {
            "tags": []
          },
          "execution_count": 28
        }
      ]
    },
    {
      "cell_type": "code",
      "metadata": {
        "id": "Xfe9wle-82gx",
        "colab_type": "code",
        "colab": {
          "base_uri": "https://localhost:8080/",
          "height": 34
        },
        "outputId": "75be67d2-4f15-46d1-c486-b7e32d2b4f0f"
      },
      "source": [
        "data"
      ],
      "execution_count": 29,
      "outputs": [
        {
          "output_type": "execute_result",
          "data": {
            "text/plain": [
              "<numpy.lib.npyio.NpzFile at 0x7f8dc6c5d978>"
            ]
          },
          "metadata": {
            "tags": []
          },
          "execution_count": 29
        }
      ]
    },
    {
      "cell_type": "code",
      "metadata": {
        "id": "LRASSOn79KV7",
        "colab_type": "code",
        "colab": {
          "base_uri": "https://localhost:8080/",
          "height": 34
        },
        "outputId": "fbeba6e3-7bf3-49ec-b257-7d61820ca7fa"
      },
      "source": [
        "#넘파이 원소 오름차순 정렬\n",
        "array = np.array([5,1,3,6,9])\n",
        "array.sort()\n",
        "print(array)"
      ],
      "execution_count": 30,
      "outputs": [
        {
          "output_type": "stream",
          "text": [
            "[1 3 5 6 9]\n"
          ],
          "name": "stdout"
        }
      ]
    },
    {
      "cell_type": "code",
      "metadata": {
        "id": "E5COvzLF9oVi",
        "colab_type": "code",
        "colab": {
          "base_uri": "https://localhost:8080/",
          "height": 34
        },
        "outputId": "0f50a0c6-2de7-4a11-ae4f-e83091dbb769"
      },
      "source": [
        "#넘파이 원소 내림차순 정렬\n",
        "print(array[::-1])"
      ],
      "execution_count": 33,
      "outputs": [
        {
          "output_type": "stream",
          "text": [
            "[9 6 5 3 1]\n"
          ],
          "name": "stdout"
        }
      ]
    },
    {
      "cell_type": "code",
      "metadata": {
        "id": "A9BUkc5Y96Ys",
        "colab_type": "code",
        "colab": {
          "base_uri": "https://localhost:8080/",
          "height": 84
        },
        "outputId": "87ff5d33-a071-45a2-d57c-f845f96b4c70"
      },
      "source": [
        "# 열을 기준으로 정렬\n",
        "array = np.array([[5,8,2,4,1], [3,6,8,9,1]])\n",
        "array.sort(axis=0)\n",
        "print(array)\n",
        "print(array[::-1])"
      ],
      "execution_count": 35,
      "outputs": [
        {
          "output_type": "stream",
          "text": [
            "[[3 6 2 4 1]\n",
            " [5 8 8 9 1]]\n",
            "[[5 8 8 9 1]\n",
            " [3 6 2 4 1]]\n"
          ],
          "name": "stdout"
        }
      ]
    },
    {
      "cell_type": "code",
      "metadata": {
        "id": "V7PvJq32-SHh",
        "colab_type": "code",
        "colab": {
          "base_uri": "https://localhost:8080/",
          "height": 34
        },
        "outputId": "b4c0d427-a3e5-4cf0-ba85-5ab7c36393e7"
      },
      "source": [
        "#균일한 간격으로 데이터 생성\n",
        "array = np.linspace(0,10,5)\n",
        "print(array)"
      ],
      "execution_count": 36,
      "outputs": [
        {
          "output_type": "stream",
          "text": [
            "[ 0.   2.5  5.   7.5 10. ]\n"
          ],
          "name": "stdout"
        }
      ]
    },
    {
      "cell_type": "code",
      "metadata": {
        "id": "VzJXLwcU-jv6",
        "colab_type": "code",
        "colab": {
          "base_uri": "https://localhost:8080/",
          "height": 50
        },
        "outputId": "d8862cae-739e-4e89-ab75-cd9cfd7ac99f"
      },
      "source": [
        "#난수의 재연(실행마다 결과 동일)\n",
        "np.random.seed(42)\n",
        "print(np.random.randint(0,10,(2,3)))"
      ],
      "execution_count": 38,
      "outputs": [
        {
          "output_type": "stream",
          "text": [
            "[[6 3 7]\n",
            " [4 6 9]]\n"
          ],
          "name": "stdout"
        }
      ]
    },
    {
      "cell_type": "code",
      "metadata": {
        "id": "IXN1zm5r-wfj",
        "colab_type": "code",
        "colab": {
          "base_uri": "https://localhost:8080/",
          "height": 50
        },
        "outputId": "412489db-0bce-47fe-ddbb-131f46c03d05"
      },
      "source": [
        "# 넘파이 배열 객체 복사\n",
        "array1 = np.arange(0,10)\n",
        "array2 = array1\n",
        "array2[0] = 99\n",
        "print(array1)\n",
        "\n",
        "array1 = np.arange(0,10)\n",
        "array2 = array1.copy()\n",
        "array2[0] = 99\n",
        "print(array1)"
      ],
      "execution_count": 41,
      "outputs": [
        {
          "output_type": "stream",
          "text": [
            "[99  1  2  3  4  5  6  7  8  9]\n",
            "[0 1 2 3 4 5 6 7 8 9]\n"
          ],
          "name": "stdout"
        }
      ]
    },
    {
      "cell_type": "code",
      "metadata": {
        "id": "ZaiTIC8R--Dg",
        "colab_type": "code",
        "colab": {}
      },
      "source": [
        ""
      ],
      "execution_count": null,
      "outputs": []
    }
  ]
}