{
  "nbformat": 4,
  "nbformat_minor": 0,
  "metadata": {
    "colab": {
      "name": "Gradio_Sensitive_label.ipynb",
      "provenance": [],
      "authorship_tag": "ABX9TyNWzOCZen8+vs9wST4KqVVn",
      "include_colab_link": true
    },
    "kernelspec": {
      "name": "python3",
      "display_name": "Python 3"
    }
  },
  "cells": [
    {
      "cell_type": "markdown",
      "metadata": {
        "id": "view-in-github",
        "colab_type": "text"
      },
      "source": [
        "<a href=\"https://colab.research.google.com/github/YoonHyeJu/project1/blob/master/Gradio_Sensitive_label.ipynb\" target=\"_parent\"><img src=\"https://colab.research.google.com/assets/colab-badge.svg\" alt=\"Open In Colab\"/></a>"
      ]
    },
    {
      "cell_type": "code",
      "metadata": {
        "id": "dxB5HcEZNYS9",
        "colab_type": "code",
        "colab": {}
      },
      "source": [
        "from google.colab import drive"
      ],
      "execution_count": 2,
      "outputs": []
    },
    {
      "cell_type": "code",
      "metadata": {
        "id": "4VsKiFkdOhLR",
        "colab_type": "code",
        "colab": {
          "base_uri": "https://localhost:8080/",
          "height": 125
        },
        "outputId": "545db0da-317a-49b1-cdc6-75807a6c3be1"
      },
      "source": [
        "drive.mount('/content/grive')"
      ],
      "execution_count": 3,
      "outputs": [
        {
          "output_type": "stream",
          "text": [
            "Go to this URL in a browser: https://accounts.google.com/o/oauth2/auth?client_id=947318989803-6bn6qk8qdgf4n4g3pfee6491hc0brc4i.apps.googleusercontent.com&redirect_uri=urn%3aietf%3awg%3aoauth%3a2.0%3aoob&scope=email%20https%3a%2f%2fwww.googleapis.com%2fauth%2fdocs.test%20https%3a%2f%2fwww.googleapis.com%2fauth%2fdrive%20https%3a%2f%2fwww.googleapis.com%2fauth%2fdrive.photos.readonly%20https%3a%2f%2fwww.googleapis.com%2fauth%2fpeopleapi.readonly&response_type=code\n",
            "\n",
            "Enter your authorization code:\n",
            "··········\n",
            "Mounted at /content/grive\n"
          ],
          "name": "stdout"
        }
      ]
    },
    {
      "cell_type": "code",
      "metadata": {
        "id": "zV3bhZViOqCG",
        "colab_type": "code",
        "colab": {}
      },
      "source": [
        "import os\n",
        "a=os.listdir('/content/grive/My Drive/Colab Notebooks/sensitive_label_detection/yolov3/data/data/images')\n",
        "b=[]\n",
        "for i in a:\n",
        "    b.append(os.path.join('/content/grive/My Drive/Colab Notebooks/sensitive_label_detection/yolov3/data/data/images', i))\n",
        "    \n",
        "with open('/content/grive/My Drive/Colab Notebooks/sensitive_label_detection/yolov3/data/id.txt', 'w') as filehandle:\n",
        "    \n",
        "    for listitem in b:\n",
        "        filehandle.write('%s\\n' % listitem)"
      ],
      "execution_count": 5,
      "outputs": []
    },
    {
      "cell_type": "code",
      "metadata": {
        "id": "Qaew6CsySjVX",
        "colab_type": "code",
        "colab": {
          "base_uri": "https://localhost:8080/",
          "height": 34
        },
        "outputId": "38f4372b-9bed-4b95-f436-1b491d5b0c6a"
      },
      "source": [
        "cd /content/grive/My Drive/Colab Notebooks/sensitive_label_detection/yolov3"
      ],
      "execution_count": 32,
      "outputs": [
        {
          "output_type": "stream",
          "text": [
            "/content/grive/My Drive/Colab Notebooks/sensitive_label_detection/yolov3\n"
          ],
          "name": "stdout"
        }
      ]
    },
    {
      "cell_type": "code",
      "metadata": {
        "id": "ftAuBQvyPpqD",
        "colab_type": "code",
        "colab": {
          "base_uri": "https://localhost:8080/",
          "height": 741
        },
        "outputId": "300f8c31-16ab-42a1-d6e0-671ecfc93b0a"
      },
      "source": [
        "!pip install gradio "
      ],
      "execution_count": 33,
      "outputs": [
        {
          "output_type": "stream",
          "text": [
            "Requirement already satisfied: gradio in /usr/local/lib/python3.6/dist-packages (1.1.6)\n",
            "Requirement already satisfied: analytics-python in /usr/local/lib/python3.6/dist-packages (from gradio) (1.2.9)\n",
            "Requirement already satisfied: scikit-image in /usr/local/lib/python3.6/dist-packages (from gradio) (0.16.2)\n",
            "Requirement already satisfied: paramiko in /usr/local/lib/python3.6/dist-packages (from gradio) (2.7.1)\n",
            "Requirement already satisfied: IPython in /usr/local/lib/python3.6/dist-packages (from gradio) (5.5.0)\n",
            "Requirement already satisfied: scipy in /usr/local/lib/python3.6/dist-packages (from gradio) (1.4.1)\n",
            "Requirement already satisfied: numpy in /usr/local/lib/python3.6/dist-packages (from gradio) (1.18.5)\n",
            "Requirement already satisfied: pandas in /usr/local/lib/python3.6/dist-packages (from gradio) (1.0.5)\n",
            "Requirement already satisfied: requests in /usr/local/lib/python3.6/dist-packages (from gradio) (2.23.0)\n",
            "Requirement already satisfied: python-dateutil>2.1 in /usr/local/lib/python3.6/dist-packages (from analytics-python->gradio) (2.8.1)\n",
            "Requirement already satisfied: six>=1.5 in /usr/local/lib/python3.6/dist-packages (from analytics-python->gradio) (1.15.0)\n",
            "Requirement already satisfied: networkx>=2.0 in /usr/local/lib/python3.6/dist-packages (from scikit-image->gradio) (2.4)\n",
            "Requirement already satisfied: PyWavelets>=0.4.0 in /usr/local/lib/python3.6/dist-packages (from scikit-image->gradio) (1.1.1)\n",
            "Requirement already satisfied: imageio>=2.3.0 in /usr/local/lib/python3.6/dist-packages (from scikit-image->gradio) (2.4.1)\n",
            "Requirement already satisfied: matplotlib!=3.0.0,>=2.0.0 in /usr/local/lib/python3.6/dist-packages (from scikit-image->gradio) (3.2.2)\n",
            "Requirement already satisfied: pillow>=4.3.0 in /usr/local/lib/python3.6/dist-packages (from scikit-image->gradio) (7.0.0)\n",
            "Requirement already satisfied: cryptography>=2.5 in /usr/local/lib/python3.6/dist-packages (from paramiko->gradio) (3.0)\n",
            "Requirement already satisfied: bcrypt>=3.1.3 in /usr/local/lib/python3.6/dist-packages (from paramiko->gradio) (3.2.0)\n",
            "Requirement already satisfied: pynacl>=1.0.1 in /usr/local/lib/python3.6/dist-packages (from paramiko->gradio) (1.4.0)\n",
            "Requirement already satisfied: decorator in /usr/local/lib/python3.6/dist-packages (from IPython->gradio) (4.4.2)\n",
            "Requirement already satisfied: setuptools>=18.5 in /usr/local/lib/python3.6/dist-packages (from IPython->gradio) (49.6.0)\n",
            "Requirement already satisfied: pexpect; sys_platform != \"win32\" in /usr/local/lib/python3.6/dist-packages (from IPython->gradio) (4.8.0)\n",
            "Requirement already satisfied: pickleshare in /usr/local/lib/python3.6/dist-packages (from IPython->gradio) (0.7.5)\n",
            "Requirement already satisfied: simplegeneric>0.8 in /usr/local/lib/python3.6/dist-packages (from IPython->gradio) (0.8.1)\n",
            "Requirement already satisfied: traitlets>=4.2 in /usr/local/lib/python3.6/dist-packages (from IPython->gradio) (4.3.3)\n",
            "Requirement already satisfied: pygments in /usr/local/lib/python3.6/dist-packages (from IPython->gradio) (2.1.3)\n",
            "Requirement already satisfied: prompt-toolkit<2.0.0,>=1.0.4 in /usr/local/lib/python3.6/dist-packages (from IPython->gradio) (1.0.18)\n",
            "Requirement already satisfied: pytz>=2017.2 in /usr/local/lib/python3.6/dist-packages (from pandas->gradio) (2018.9)\n",
            "Requirement already satisfied: chardet<4,>=3.0.2 in /usr/local/lib/python3.6/dist-packages (from requests->gradio) (3.0.4)\n",
            "Requirement already satisfied: urllib3!=1.25.0,!=1.25.1,<1.26,>=1.21.1 in /usr/local/lib/python3.6/dist-packages (from requests->gradio) (1.24.3)\n",
            "Requirement already satisfied: idna<3,>=2.5 in /usr/local/lib/python3.6/dist-packages (from requests->gradio) (2.10)\n",
            "Requirement already satisfied: certifi>=2017.4.17 in /usr/local/lib/python3.6/dist-packages (from requests->gradio) (2020.6.20)\n",
            "Requirement already satisfied: kiwisolver>=1.0.1 in /usr/local/lib/python3.6/dist-packages (from matplotlib!=3.0.0,>=2.0.0->scikit-image->gradio) (1.2.0)\n",
            "Requirement already satisfied: pyparsing!=2.0.4,!=2.1.2,!=2.1.6,>=2.0.1 in /usr/local/lib/python3.6/dist-packages (from matplotlib!=3.0.0,>=2.0.0->scikit-image->gradio) (2.4.7)\n",
            "Requirement already satisfied: cycler>=0.10 in /usr/local/lib/python3.6/dist-packages (from matplotlib!=3.0.0,>=2.0.0->scikit-image->gradio) (0.10.0)\n",
            "Requirement already satisfied: cffi!=1.11.3,>=1.8 in /usr/local/lib/python3.6/dist-packages (from cryptography>=2.5->paramiko->gradio) (1.14.2)\n",
            "Requirement already satisfied: ptyprocess>=0.5 in /usr/local/lib/python3.6/dist-packages (from pexpect; sys_platform != \"win32\"->IPython->gradio) (0.6.0)\n",
            "Requirement already satisfied: ipython-genutils in /usr/local/lib/python3.6/dist-packages (from traitlets>=4.2->IPython->gradio) (0.2.0)\n",
            "Requirement already satisfied: wcwidth in /usr/local/lib/python3.6/dist-packages (from prompt-toolkit<2.0.0,>=1.0.4->IPython->gradio) (0.2.5)\n",
            "Requirement already satisfied: pycparser in /usr/local/lib/python3.6/dist-packages (from cffi!=1.11.3,>=1.8->cryptography>=2.5->paramiko->gradio) (2.20)\n"
          ],
          "name": "stdout"
        }
      ]
    },
    {
      "cell_type": "code",
      "metadata": {
        "id": "m6r9cAD7Rpt1",
        "colab_type": "code",
        "colab": {
          "base_uri": "https://localhost:8080/",
          "height": 34
        },
        "outputId": "31833ff7-d926-47f8-aabc-18ebf6109407"
      },
      "source": [
        "!pip install doqu"
      ],
      "execution_count": 34,
      "outputs": [
        {
          "output_type": "stream",
          "text": [
            "Requirement already satisfied: doqu in /usr/local/lib/python3.6/dist-packages (0.28.2)\n"
          ],
          "name": "stdout"
        }
      ]
    },
    {
      "cell_type": "code",
      "metadata": {
        "id": "duoN-jm4RuPz",
        "colab_type": "code",
        "colab": {
          "base_uri": "https://localhost:8080/",
          "height": 34
        },
        "outputId": "4b8bee31-8177-4464-9000-5398bbb0ca13"
      },
      "source": [
        "!pip install utils"
      ],
      "execution_count": 35,
      "outputs": [
        {
          "output_type": "stream",
          "text": [
            "Requirement already satisfied: utils in /usr/local/lib/python3.6/dist-packages (1.0.1)\n"
          ],
          "name": "stdout"
        }
      ]
    },
    {
      "cell_type": "code",
      "metadata": {
        "id": "Xq9fcdx0RjLr",
        "colab_type": "code",
        "colab": {}
      },
      "source": [
        "import argparse"
      ],
      "execution_count": 36,
      "outputs": []
    },
    {
      "cell_type": "code",
      "metadata": {
        "id": "726G_D0qRHEE",
        "colab_type": "code",
        "colab": {}
      },
      "source": [
        "from models import * # set ONNX_EXPORT in models.py\n",
        "from utils.datasets import *\n",
        "from utils.utils import *\n",
        "import gradio as gr\n",
        "import tensorflow as tf\n",
        "import numpy as np\n",
        "from PIL import Image\n",
        "import requests\n",
        "import cv2"
      ],
      "execution_count": 37,
      "outputs": []
    },
    {
      "cell_type": "code",
      "metadata": {
        "id": "P4PBfhVtRMY-",
        "colab_type": "code",
        "colab": {}
      },
      "source": [
        "#def sepia(radio, img):\n",
        "def sepia(img):\n",
        "  #checkbox_ = checkbox\n",
        "  #connect model\n",
        "  sepia_filter = np.array([[.393, .769, .189],\n",
        "                           [.349, .686, .168],\n",
        "                           [.272, .534, .131]])\n",
        "  sepia_img = img.dot(sepia_filter.T)\n",
        "  sepia_img /= sepia_img.max()                          \n",
        "  return sepia_img"
      ],
      "execution_count": 42,
      "outputs": []
    },
    {
      "cell_type": "code",
      "metadata": {
        "id": "NpJuDfIMRR-4",
        "colab_type": "code",
        "colab": {
          "base_uri": "https://localhost:8080/",
          "height": 818
        },
        "outputId": "463655ac-63b1-4e29-cd33-35a2c2c3cbd3"
      },
      "source": [
        "def detect(source):\n",
        "    inp = Image.fromarray(source.astype('uint8'), 'RGB')\n",
        "    filename = \"test.jpeg\"\n",
        "    inp.save(filename, \"JPEG\")\n",
        "\n",
        "    cfg = '/content/grive/My Drive/Colab Notebooks/sensitive_label_detection/yolov3/cfg/yolov3-tiny.cfg'\n",
        "    names = '/content/grive/My Drive/Colab Notebooks/sensitive_label_detection/yolov3/data/coco_id.names'\n",
        "    weights = '/content/grive/My Drive/Colab Notebooks/sensitive_label_detection/yolov3/weights/last.pt'\n",
        "    out = 'output'\n",
        "    img_size=512\n",
        "    conf_thres=0.3\n",
        "    iou_thres=0.6\n",
        "    fourcc='mp4v'\n",
        "    half=False\n",
        "    device=''\n",
        "    view_img=False\n",
        "    save_txt = False\n",
        "    classes=None\n",
        "    agnostic_nms=False\n",
        "    augment=False\n",
        "    cfg = check_file(cfg)\n",
        "    names = check_file(names)\n",
        "    save_img = True\n",
        "\n",
        "\n",
        "    imgsz = (320, 192) if ONNX_EXPORT else img_size\n",
        "\n",
        "    device = torch_utils.select_device(device='cpu' if ONNX_EXPORT else device)\n",
        "    if os.path.exists(out):\n",
        "        shutil.rmtree(out)\n",
        "    os.makedirs(out)\n",
        "\n",
        "    model = Darknet(cfg, imgsz)\n",
        "\n",
        "    attempt_download(weights)\n",
        "    if weights.endswith('.pt'):\n",
        "        model.load_state_dict(torch.load(weights, map_location=device)['model'])\n",
        "    else:\n",
        "        load_darknet_weights(model, weights)\n",
        "\n",
        "    classify = False\n",
        "    if classify:\n",
        "        modelc = torch_utils.load_classifier(name='resnet101', n=2)  # initialize\n",
        "        modelc.load_state_dict(torch.load('weights/resnet101.pt', map_location=device)['model'])  # load weights\n",
        "        modelc.to(device).eval()\n",
        "\n",
        "    # Eval mode\n",
        "    model.to(device).eval()\n",
        "    \n",
        "    # Fuse Conv2d + BatchNorm2d layers\n",
        "    # model.fuse()\n",
        "\n",
        "    # Export mode\n",
        "    if ONNX_EXPORT:\n",
        "        model.fuse()\n",
        "        img = torch.zeros((1, 3) + imgsz)  # (1, 3, 320, 192)\n",
        "        f = weights.replace(weights.split('.')[-1], 'onnx')  # *.onnx filename\n",
        "        torch.onnx.export(model, img, f, verbose=False, opset_version=11,\n",
        "                          input_names=['images'], output_names=['classes', 'boxes'])\n",
        "\n",
        "        # Validate exported model\n",
        "        import onnx\n",
        "        model = onnx.load(f)  # Load the ONNX model\n",
        "        onnx.checker.check_model(model)  # Check that the IR is well formed\n",
        "        print(onnx.helper.printable_graph(model.graph))  # Print a human readable representation of the graph\n",
        "        return\n",
        "\n",
        "    # Half precision\n",
        "    half = half and device.type != 'cpu'  # half precision only supported on CUDA\n",
        "    if half:\n",
        "        model.half()\n",
        "\n",
        "    # Set Dataloader\n",
        "    vid_path, vid_writer = None, None\n",
        "    #############\n",
        "    dataset = LoadImages(filename, img_size=imgsz)\n",
        "    names=load_classes(names)\n",
        "    colors = [[random.randint(0, 255) for _ in range(3)] for _ in range(len(names))]\n",
        "\n",
        "    # Run inference\n",
        "    t0 = time.time()\n",
        "    img = torch.zeros((1, 3, imgsz, imgsz), device=device)  # init img\n",
        "    _ = model(img.half() if half else img.float()) if device.type != 'cpu' else None  # run once\n",
        "    for path, img, im0s, vid_cap in dataset:\n",
        "        img = torch.from_numpy(img).to(device)\n",
        "        img = img.half() if half else img.float()  # uint8 to fp16/32\n",
        "        img /= 255.0  # 0 - 255 to 0.0 - 1.0\n",
        "        if img.ndimension() == 3:\n",
        "            img = img.unsqueeze(0)\n",
        "\n",
        "        # Inference\n",
        "        t1 = torch_utils.time_synchronized()\n",
        "        pred = model(img, augment=augment)[0]\n",
        "        t2 = torch_utils.time_synchronized()\n",
        "\n",
        "        # to float\n",
        "        if half:\n",
        "            pred = pred.float()\n",
        "\n",
        "        # Apply NMS\n",
        "        pred = non_max_suppression(pred, conf_thres, iou_thres,\n",
        "                                   multi_label=False, classes=classes, agnostic=agnostic_nms)\n",
        "        \n",
        "        # Apply Classifier\n",
        "        if classify:\n",
        "            pred = apply_classifier(pred, modelc, img, im0s)\n",
        "\n",
        "        # Process detections\n",
        "        for i, det in enumerate(pred):  # detections for image i\n",
        "            p, s, im0 = path, '', im0s\n",
        "\n",
        "            save_path = str(Path(out) / Path(p).name)\n",
        "            s += '%gx%g ' % img.shape[2:]  # print string\n",
        "            gn = torch.tensor(im0.shape)[[1, 0, 1, 0]]  #  normalization gain whwh\n",
        "            if det is not None and len(det):\n",
        "                # Rescale boxes from imgsz to im0 size\n",
        "                det[:, :4] = scale_coords(img.shape[2:], det[:, :4], im0.shape).round()\n",
        "\n",
        "                # Print results\n",
        "                for c in det[:, -1].detach().unique():\n",
        "                    n = (det[:, -1] == c).sum()  # detections per class\n",
        "                    s += '%g %ss, ' % (n, names[int(c)])  # add to string\n",
        "\n",
        "                # Write results\n",
        "                for *xyxy, conf, cls in reversed(det):\n",
        "                    if save_txt:  # Write to file\n",
        "                        xywh = (xyxy2xywh(torch.tensor(xyxy).view(1, 4)) / gn).view(-1).tolist()  # normalized xywh\n",
        "                        with open(save_path[:save_path.rfind('.')] + '.txt', 'a') as file:\n",
        "                            file.write(('%g ' * 5 + '\\n') % (cls, *xywh))  # label format\n",
        "\n",
        "                    if save_img or view_img:  # Add bbox to image\n",
        "                        label = '%s %.2f' % (names[int(cls)], conf)\n",
        "                        plot_one_box(xyxy, im0, label=label, color=colors[int(cls)])\n",
        "\n",
        "            # Print time (inference + NMS)\n",
        "            print('%sDone. (%.3fs)' % (s, t2 - t1))\n",
        "\n",
        "            # Stream results\n",
        "            if view_img:\n",
        "                cv2.imshow(p, im0)\n",
        "                if cv2.waitKey(1) == ord('q'):  # q to quit\n",
        "                    raise StopIteration\n",
        "\n",
        "            # Save results (image with detections)\n",
        "            if save_img:\n",
        "                if dataset.mode == 'images':\n",
        "                    cv2.imwrite(save_path, im0)\n",
        "                else:\n",
        "                    if vid_path != save_path:  # new video\n",
        "                        vid_path = save_path\n",
        "                        if isinstance(vid_writer, cv2.VideoWriter):\n",
        "                            vid_writer.release()  # release previous video writer\n",
        "\n",
        "                        fps = vid_cap.get(cv2.CAP_PROP_FPS)\n",
        "                        w = int(vid_cap.get(cv2.CAP_PROP_FRAME_WIDTH))\n",
        "                        h = int(vid_cap.get(cv2.CAP_PROP_FRAME_HEIGHT))\n",
        "                        vid_writer = cv2.VideoWriter(save_path, cv2.VideoWriter_fourcc(*fourcc), fps, (w, h))\n",
        "                    vid_writer.write(im0)\n",
        "\n",
        "    if save_txt or save_img:\n",
        "        print('Results saved to %s' % os.getcwd() + os.sep + out)\n",
        "        if platform == 'darwin':  # MacOS\n",
        "            os.system('open ' + save_path)\n",
        "\n",
        "    print('Done. (%.3fs)' % (time.time() - t0))\n",
        "    print('save path: ')\n",
        "    out_path=os.getcwd() + os.sep + save_path\n",
        "    return out_path\n",
        "\n",
        "image = gr.inputs.Image()\n",
        "label = gr.outputs.Image(label = 'Sensitive Label Detection', type='file')\n",
        "gr.Interface(fn=detect, inputs=image, outputs=label, capture_session=True).launch(debug=True)"
      ],
      "execution_count": null,
      "outputs": [
        {
          "output_type": "stream",
          "text": [
            "Colab notebook detected. This cell will run indefinitely so that you can see errors and logs. To turn off, set debug=False in launch().\n",
            "Running on External URL: https://16001.gradio.app\n",
            "Interface loading below...\n"
          ],
          "name": "stdout"
        },
        {
          "output_type": "display_data",
          "data": {
            "text/html": [
              "\n",
              "        <iframe\n",
              "            width=\"1000\"\n",
              "            height=\"500\"\n",
              "            src=\"https://16001.gradio.app\"\n",
              "            frameborder=\"0\"\n",
              "            allowfullscreen\n",
              "        ></iframe>\n",
              "        "
            ],
            "text/plain": [
              "<IPython.lib.display.IFrame at 0x7fdc73f31128>"
            ]
          },
          "metadata": {
            "tags": []
          }
        },
        {
          "output_type": "stream",
          "text": [
            "Using CPU\n",
            "\n",
            "Model Summary: 37 layers, 8.07261e+06 parameters, 8.07261e+06 gradients\n",
            "image 1/1 test.jpeg: 512x384 3 sensitive_labels, Done. (0.177s)\n",
            "Results saved to /content/grive/My Drive/Colab Notebooks/sensitive_label_detection/yolov3/output\n",
            "Done. (0.263s)\n",
            "save path: \n",
            "Using CPU\n",
            "\n",
            "Model Summary: 37 layers, 8.07261e+06 parameters, 8.07261e+06 gradients\n",
            "image 1/1 test.jpeg: 512x384 3 sensitive_labels, Done. (0.179s)\n",
            "Results saved to /content/grive/My Drive/Colab Notebooks/sensitive_label_detection/yolov3/output\n",
            "Done. (0.277s)\n",
            "save path: \n"
          ],
          "name": "stdout"
        }
      ]
    },
    {
      "cell_type": "code",
      "metadata": {
        "id": "6k_CsmzVTtvx",
        "colab_type": "code",
        "colab": {}
      },
      "source": [
        ""
      ],
      "execution_count": null,
      "outputs": []
    }
  ]
}