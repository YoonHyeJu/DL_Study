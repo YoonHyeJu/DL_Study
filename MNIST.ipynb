{
  "nbformat": 4,
  "nbformat_minor": 0,
  "metadata": {
    "colab": {
      "name": "MNIST.ipynb",
      "provenance": [],
      "authorship_tag": "ABX9TyMyp+04MwQUFeomPUwyyHez",
      "include_colab_link": true
    },
    "kernelspec": {
      "name": "python3",
      "display_name": "Python 3"
    }
  },
  "cells": [
    {
      "cell_type": "markdown",
      "metadata": {
        "id": "view-in-github",
        "colab_type": "text"
      },
      "source": [
        "<a href=\"https://colab.research.google.com/github/YoonHyeJu/project1/blob/master/MNIST.ipynb\" target=\"_parent\"><img src=\"https://colab.research.google.com/assets/colab-badge.svg\" alt=\"Open In Colab\"/></a>"
      ]
    },
    {
      "cell_type": "code",
      "metadata": {
        "id": "efXcL1mq9DEh",
        "colab_type": "code",
        "colab": {}
      },
      "source": [
        "from tensorflow import keras"
      ],
      "execution_count": 1,
      "outputs": []
    },
    {
      "cell_type": "code",
      "metadata": {
        "id": "FZXWN4a09407",
        "colab_type": "code",
        "colab": {
          "base_uri": "https://localhost:8080/",
          "height": 70
        },
        "outputId": "4324c874-9fa8-44af-ea34-4e753d655778"
      },
      "source": [
        "# x는 28x28 픽셀의 각 손글씨 이미지 데이터\n",
        "# y는 분류에 사용되는 0~9 사이의 레이블 값\n",
        "(x_train, y_train), (x_test, y_test) = keras.datasets.mnist.load_data()\n"
      ],
      "execution_count": 2,
      "outputs": [
        {
          "output_type": "stream",
          "text": [
            "Downloading data from https://storage.googleapis.com/tensorflow/tf-keras-datasets/mnist.npz\n",
            "11493376/11490434 [==============================] - 0s 0us/step\n"
          ],
          "name": "stdout"
        }
      ]
    },
    {
      "cell_type": "code",
      "metadata": {
        "id": "RBHQ5jz_-Bs-",
        "colab_type": "code",
        "colab": {
          "base_uri": "https://localhost:8080/",
          "height": 34
        },
        "outputId": "b4324aee-23ce-438d-e978-5cda1e4d4e6f"
      },
      "source": [
        "print(y_train.shape)"
      ],
      "execution_count": 3,
      "outputs": [
        {
          "output_type": "stream",
          "text": [
            "(60000,)\n"
          ],
          "name": "stdout"
        }
      ]
    },
    {
      "cell_type": "code",
      "metadata": {
        "id": "5uyZRCqM-TlX",
        "colab_type": "code",
        "colab": {
          "base_uri": "https://localhost:8080/",
          "height": 101
        },
        "outputId": "a2f138e4-590d-4037-9b20-6a1bea10777e"
      },
      "source": [
        "for i in range(5):\n",
        "    print(y_train[i])"
      ],
      "execution_count": 4,
      "outputs": [
        {
          "output_type": "stream",
          "text": [
            "5\n",
            "0\n",
            "4\n",
            "1\n",
            "9\n"
          ],
          "name": "stdout"
        }
      ]
    },
    {
      "cell_type": "code",
      "metadata": {
        "id": "XFutjOc_-Z7A",
        "colab_type": "code",
        "colab": {}
      },
      "source": [
        "# one-hot encoding\n",
        "# 5 -> [0,0,0,0,0,1,0,0,0,0]\n",
        "\n",
        "y_train = keras.utils.to_categorical(y_train, 10) # 10: 클래스 몇개인지\n",
        "y_test = keras.utils.to_categorical(y_test, 10)"
      ],
      "execution_count": 5,
      "outputs": []
    },
    {
      "cell_type": "code",
      "metadata": {
        "id": "CgOE7F9x-7yh",
        "colab_type": "code",
        "colab": {
          "base_uri": "https://localhost:8080/",
          "height": 101
        },
        "outputId": "f4333f77-23af-4513-9f41-b9b6067bd9b4"
      },
      "source": [
        "for i in range(5):\n",
        "    print(y_train[i])"
      ],
      "execution_count": 6,
      "outputs": [
        {
          "output_type": "stream",
          "text": [
            "[0. 0. 0. 0. 0. 1. 0. 0. 0. 0.]\n",
            "[1. 0. 0. 0. 0. 0. 0. 0. 0. 0.]\n",
            "[0. 0. 0. 0. 1. 0. 0. 0. 0. 0.]\n",
            "[0. 1. 0. 0. 0. 0. 0. 0. 0. 0.]\n",
            "[0. 0. 0. 0. 0. 0. 0. 0. 0. 1.]\n"
          ],
          "name": "stdout"
        }
      ]
    },
    {
      "cell_type": "code",
      "metadata": {
        "id": "W4VrRF1z_GdK",
        "colab_type": "code",
        "colab": {
          "base_uri": "https://localhost:8080/",
          "height": 34
        },
        "outputId": "88da19db-6230-4484-de21-7dbfe9e5bf23"
      },
      "source": [
        "print(x_train.shape, x_test.shape) # 60000개의 이미지 데이터 , 28X28 픽셀로 이루어진!"
      ],
      "execution_count": 7,
      "outputs": [
        {
          "output_type": "stream",
          "text": [
            "(60000, 28, 28) (10000, 28, 28)\n"
          ],
          "name": "stdout"
        }
      ]
    },
    {
      "cell_type": "code",
      "metadata": {
        "id": "KmPGIVwo-_G0",
        "colab_type": "code",
        "colab": {}
      },
      "source": [
        "#뉴럴넷에 넣기 위해서는 매트릭스X, 쫙 펼쳐줘야됨\n",
        "\n",
        "x_train = x_train.reshape(60000, 28*28)\n",
        "x_test = x_test.reshape(10000, 28*28)"
      ],
      "execution_count": 9,
      "outputs": []
    },
    {
      "cell_type": "code",
      "metadata": {
        "id": "KLkB21pk_pqv",
        "colab_type": "code",
        "colab": {
          "base_uri": "https://localhost:8080/",
          "height": 34
        },
        "outputId": "438283c2-0d1f-497f-c9d3-0187bc5e7a19"
      },
      "source": [
        "print(x_train.shape, x_test.shape)"
      ],
      "execution_count": 17,
      "outputs": [
        {
          "output_type": "stream",
          "text": [
            "(60000, 784) (10000, 784)\n"
          ],
          "name": "stdout"
        }
      ]
    },
    {
      "cell_type": "code",
      "metadata": {
        "id": "MnwGYCAaCfj5",
        "colab_type": "code",
        "colab": {
          "base_uri": "https://localhost:8080/",
          "height": 756
        },
        "outputId": "5543fa73-a4a5-4744-f13b-31a6fad0e90c"
      },
      "source": [
        "print(x_train[0])"
      ],
      "execution_count": 18,
      "outputs": [
        {
          "output_type": "stream",
          "text": [
            "[  0   0   0   0   0   0   0   0   0   0   0   0   0   0   0   0   0   0\n",
            "   0   0   0   0   0   0   0   0   0   0   0   0   0   0   0   0   0   0\n",
            "   0   0   0   0   0   0   0   0   0   0   0   0   0   0   0   0   0   0\n",
            "   0   0   0   0   0   0   0   0   0   0   0   0   0   0   0   0   0   0\n",
            "   0   0   0   0   0   0   0   0   0   0   0   0   0   0   0   0   0   0\n",
            "   0   0   0   0   0   0   0   0   0   0   0   0   0   0   0   0   0   0\n",
            "   0   0   0   0   0   0   0   0   0   0   0   0   0   0   0   0   0   0\n",
            "   0   0   0   0   0   0   0   0   0   0   0   0   0   0   0   0   0   0\n",
            "   0   0   0   0   0   0   0   0   3  18  18  18 126 136 175  26 166 255\n",
            " 247 127   0   0   0   0   0   0   0   0   0   0   0   0  30  36  94 154\n",
            " 170 253 253 253 253 253 225 172 253 242 195  64   0   0   0   0   0   0\n",
            "   0   0   0   0   0  49 238 253 253 253 253 253 253 253 253 251  93  82\n",
            "  82  56  39   0   0   0   0   0   0   0   0   0   0   0   0  18 219 253\n",
            " 253 253 253 253 198 182 247 241   0   0   0   0   0   0   0   0   0   0\n",
            "   0   0   0   0   0   0   0   0  80 156 107 253 253 205  11   0  43 154\n",
            "   0   0   0   0   0   0   0   0   0   0   0   0   0   0   0   0   0   0\n",
            "   0  14   1 154 253  90   0   0   0   0   0   0   0   0   0   0   0   0\n",
            "   0   0   0   0   0   0   0   0   0   0   0   0   0 139 253 190   2   0\n",
            "   0   0   0   0   0   0   0   0   0   0   0   0   0   0   0   0   0   0\n",
            "   0   0   0   0   0  11 190 253  70   0   0   0   0   0   0   0   0   0\n",
            "   0   0   0   0   0   0   0   0   0   0   0   0   0   0   0   0  35 241\n",
            " 225 160 108   1   0   0   0   0   0   0   0   0   0   0   0   0   0   0\n",
            "   0   0   0   0   0   0   0   0   0  81 240 253 253 119  25   0   0   0\n",
            "   0   0   0   0   0   0   0   0   0   0   0   0   0   0   0   0   0   0\n",
            "   0   0  45 186 253 253 150  27   0   0   0   0   0   0   0   0   0   0\n",
            "   0   0   0   0   0   0   0   0   0   0   0   0   0  16  93 252 253 187\n",
            "   0   0   0   0   0   0   0   0   0   0   0   0   0   0   0   0   0   0\n",
            "   0   0   0   0   0   0   0 249 253 249  64   0   0   0   0   0   0   0\n",
            "   0   0   0   0   0   0   0   0   0   0   0   0   0   0  46 130 183 253\n",
            " 253 207   2   0   0   0   0   0   0   0   0   0   0   0   0   0   0   0\n",
            "   0   0   0   0  39 148 229 253 253 253 250 182   0   0   0   0   0   0\n",
            "   0   0   0   0   0   0   0   0   0   0   0   0  24 114 221 253 253 253\n",
            " 253 201  78   0   0   0   0   0   0   0   0   0   0   0   0   0   0   0\n",
            "   0   0  23  66 213 253 253 253 253 198  81   2   0   0   0   0   0   0\n",
            "   0   0   0   0   0   0   0   0   0   0  18 171 219 253 253 253 253 195\n",
            "  80   9   0   0   0   0   0   0   0   0   0   0   0   0   0   0   0   0\n",
            "  55 172 226 253 253 253 253 244 133  11   0   0   0   0   0   0   0   0\n",
            "   0   0   0   0   0   0   0   0   0   0 136 253 253 253 212 135 132  16\n",
            "   0   0   0   0   0   0   0   0   0   0   0   0   0   0   0   0   0   0\n",
            "   0   0   0   0   0   0   0   0   0   0   0   0   0   0   0   0   0   0\n",
            "   0   0   0   0   0   0   0   0   0   0   0   0   0   0   0   0   0   0\n",
            "   0   0   0   0   0   0   0   0   0   0   0   0   0   0   0   0   0   0\n",
            "   0   0   0   0   0   0   0   0   0   0   0   0   0   0   0   0   0   0\n",
            "   0   0   0   0   0   0   0   0   0   0]\n"
          ],
          "name": "stdout"
        }
      ]
    },
    {
      "cell_type": "code",
      "metadata": {
        "id": "uwPx0F8n_vfl",
        "colab_type": "code",
        "colab": {}
      },
      "source": [
        "model = keras.Sequential()\n",
        "model.add(keras.layers.Dense(32, activation='sigmoid',input_shape = (28*28,)))\n",
        "model.add(keras.layers.Dense(32, activation='sigmoid'))\n",
        "model.add(keras.layers.Dense(10, activation='sigmoid')) # 10 <- y데이터의 갯수를 따름"
      ],
      "execution_count": 11,
      "outputs": []
    },
    {
      "cell_type": "code",
      "metadata": {
        "id": "iWGtCf0aARRI",
        "colab_type": "code",
        "colab": {
          "base_uri": "https://localhost:8080/",
          "height": 252
        },
        "outputId": "943802df-84a6-449f-85fa-c68e4dea11e5"
      },
      "source": [
        "optimizer = keras.optimizers.SGD(lr=0.1)\n",
        "model.compile(optimizer=optimizer, loss = \"categorical_crossentropy\", metrics=['accuracy'])\n",
        "\n",
        "model.summary()"
      ],
      "execution_count": 12,
      "outputs": [
        {
          "output_type": "stream",
          "text": [
            "Model: \"sequential\"\n",
            "_________________________________________________________________\n",
            "Layer (type)                 Output Shape              Param #   \n",
            "=================================================================\n",
            "dense (Dense)                (None, 32)                25120     \n",
            "_________________________________________________________________\n",
            "dense_1 (Dense)              (None, 32)                1056      \n",
            "_________________________________________________________________\n",
            "dense_2 (Dense)              (None, 10)                330       \n",
            "=================================================================\n",
            "Total params: 26,506\n",
            "Trainable params: 26,506\n",
            "Non-trainable params: 0\n",
            "_________________________________________________________________\n"
          ],
          "name": "stdout"
        }
      ]
    },
    {
      "cell_type": "code",
      "metadata": {
        "id": "XRLWizz_Ap_v",
        "colab_type": "code",
        "colab": {
          "base_uri": "https://localhost:8080/",
          "height": 390
        },
        "outputId": "8e487c1a-c65f-46a1-b964-875c7d9efe87"
      },
      "source": [
        "model.fit(x_train, y_train, batch_size=128, epochs = 10, validation_data=(x_test,y_test))\n",
        "# epochs : 60000개의 전체 학습 데이터를 몇 번 반복해서 학습할지"
      ],
      "execution_count": 13,
      "outputs": [
        {
          "output_type": "stream",
          "text": [
            "Epoch 1/10\n",
            "469/469 [==============================] - 2s 4ms/step - loss: 1.7388 - accuracy: 0.5699 - val_loss: 1.1113 - val_accuracy: 0.7512\n",
            "Epoch 2/10\n",
            "469/469 [==============================] - 2s 4ms/step - loss: 0.8897 - accuracy: 0.7846 - val_loss: 0.7116 - val_accuracy: 0.8300\n",
            "Epoch 3/10\n",
            "469/469 [==============================] - 2s 4ms/step - loss: 0.6639 - accuracy: 0.8257 - val_loss: 0.5948 - val_accuracy: 0.8492\n",
            "Epoch 4/10\n",
            "469/469 [==============================] - 2s 4ms/step - loss: 0.5994 - accuracy: 0.8332 - val_loss: 0.5615 - val_accuracy: 0.8369\n",
            "Epoch 5/10\n",
            "469/469 [==============================] - 2s 4ms/step - loss: 0.5474 - accuracy: 0.8443 - val_loss: 0.5337 - val_accuracy: 0.8470\n",
            "Epoch 6/10\n",
            "469/469 [==============================] - 2s 4ms/step - loss: 0.5135 - accuracy: 0.8491 - val_loss: 0.5080 - val_accuracy: 0.8553\n",
            "Epoch 7/10\n",
            "469/469 [==============================] - 2s 4ms/step - loss: 0.4936 - accuracy: 0.8535 - val_loss: 0.4825 - val_accuracy: 0.8670\n",
            "Epoch 8/10\n",
            "469/469 [==============================] - 2s 4ms/step - loss: 0.4784 - accuracy: 0.8558 - val_loss: 0.4625 - val_accuracy: 0.8605\n",
            "Epoch 9/10\n",
            "469/469 [==============================] - 2s 4ms/step - loss: 0.4839 - accuracy: 0.8570 - val_loss: 0.5167 - val_accuracy: 0.8411\n",
            "Epoch 10/10\n",
            "469/469 [==============================] - 2s 4ms/step - loss: 0.4722 - accuracy: 0.8581 - val_loss: 0.4326 - val_accuracy: 0.8669\n"
          ],
          "name": "stdout"
        },
        {
          "output_type": "execute_result",
          "data": {
            "text/plain": [
              "<tensorflow.python.keras.callbacks.History at 0x7f47f3ed4048>"
            ]
          },
          "metadata": {
            "tags": []
          },
          "execution_count": 13
        }
      ]
    },
    {
      "cell_type": "code",
      "metadata": {
        "id": "sVuocAFDA8oz",
        "colab_type": "code",
        "colab": {
          "base_uri": "https://localhost:8080/",
          "height": 50
        },
        "outputId": "3aebaaf3-ac79-48ec-ba71-288d83f2b730"
      },
      "source": [
        "model.evaluate(x_test, y_test)"
      ],
      "execution_count": 14,
      "outputs": [
        {
          "output_type": "stream",
          "text": [
            "313/313 [==============================] - 0s 2ms/step - loss: 0.4326 - accuracy: 0.8669\n"
          ],
          "name": "stdout"
        },
        {
          "output_type": "execute_result",
          "data": {
            "text/plain": [
              "[0.4325767159461975, 0.8669000267982483]"
            ]
          },
          "metadata": {
            "tags": []
          },
          "execution_count": 14
        }
      ]
    },
    {
      "cell_type": "code",
      "metadata": {
        "id": "YcZ7RrAZBSx2",
        "colab_type": "code",
        "colab": {
          "base_uri": "https://localhost:8080/",
          "height": 50
        },
        "outputId": "66dd6a87-52c0-4873-925d-32a0c2d9b899"
      },
      "source": [
        "model.evaluate(x_test, y_test)"
      ],
      "execution_count": 15,
      "outputs": [
        {
          "output_type": "stream",
          "text": [
            "313/313 [==============================] - 1s 2ms/step - loss: 0.4326 - accuracy: 0.8669\n"
          ],
          "name": "stdout"
        },
        {
          "output_type": "execute_result",
          "data": {
            "text/plain": [
              "[0.4325767159461975, 0.8669000267982483]"
            ]
          },
          "metadata": {
            "tags": []
          },
          "execution_count": 15
        }
      ]
    },
    {
      "cell_type": "code",
      "metadata": {
        "id": "1F4KclgxBePI",
        "colab_type": "code",
        "colab": {
          "base_uri": "https://localhost:8080/",
          "height": 406
        },
        "outputId": "e096bac8-5363-4e12-f0fd-ba1f6273fd59"
      },
      "source": [
        "model.fit(x_train, y_train, batch_size=256, epochs = 10, validation_data=(x_test,y_test))\n",
        "model.evaluate(x_test, y_test)"
      ],
      "execution_count": 16,
      "outputs": [
        {
          "output_type": "stream",
          "text": [
            "Epoch 1/10\n",
            "235/235 [==============================] - 1s 5ms/step - loss: 0.4289 - accuracy: 0.8696 - val_loss: 0.4052 - val_accuracy: 0.8763\n",
            "Epoch 2/10\n",
            "235/235 [==============================] - 1s 5ms/step - loss: 0.3987 - accuracy: 0.8810 - val_loss: 0.4029 - val_accuracy: 0.8770\n",
            "Epoch 3/10\n",
            "235/235 [==============================] - 1s 5ms/step - loss: 0.3994 - accuracy: 0.8790 - val_loss: 0.4039 - val_accuracy: 0.8759\n",
            "Epoch 4/10\n",
            "235/235 [==============================] - 1s 5ms/step - loss: 0.3870 - accuracy: 0.8828 - val_loss: 0.3560 - val_accuracy: 0.8944\n",
            "Epoch 5/10\n",
            "235/235 [==============================] - 1s 5ms/step - loss: 0.3858 - accuracy: 0.8821 - val_loss: 0.3830 - val_accuracy: 0.8864\n",
            "Epoch 6/10\n",
            "235/235 [==============================] - 1s 5ms/step - loss: 0.3771 - accuracy: 0.8855 - val_loss: 0.3756 - val_accuracy: 0.8888\n",
            "Epoch 7/10\n",
            "235/235 [==============================] - 1s 5ms/step - loss: 0.3781 - accuracy: 0.8868 - val_loss: 0.3638 - val_accuracy: 0.8943\n",
            "Epoch 8/10\n",
            "235/235 [==============================] - 1s 5ms/step - loss: 0.3734 - accuracy: 0.8880 - val_loss: 0.3588 - val_accuracy: 0.8906\n",
            "Epoch 9/10\n",
            "235/235 [==============================] - 1s 5ms/step - loss: 0.3652 - accuracy: 0.8895 - val_loss: 0.3534 - val_accuracy: 0.8925\n",
            "Epoch 10/10\n",
            "235/235 [==============================] - 1s 5ms/step - loss: 0.3486 - accuracy: 0.8943 - val_loss: 0.3475 - val_accuracy: 0.8929\n",
            "313/313 [==============================] - 1s 2ms/step - loss: 0.3475 - accuracy: 0.8929\n"
          ],
          "name": "stdout"
        },
        {
          "output_type": "execute_result",
          "data": {
            "text/plain": [
              "[0.34747496247291565, 0.8928999900817871]"
            ]
          },
          "metadata": {
            "tags": []
          },
          "execution_count": 16
        }
      ]
    },
    {
      "cell_type": "code",
      "metadata": {
        "id": "pSqLsW3gBnPy",
        "colab_type": "code",
        "colab": {}
      },
      "source": [
        ""
      ],
      "execution_count": null,
      "outputs": []
    },
    {
      "cell_type": "markdown",
      "metadata": {
        "id": "sOUO9Ay0Dm1Y",
        "colab_type": "text"
      },
      "source": [
        "방법 2 ( 방법1보다 정확도 더 높음 )"
      ]
    },
    {
      "cell_type": "code",
      "metadata": {
        "id": "09u0qRXwDuuP",
        "colab_type": "code",
        "colab": {}
      },
      "source": [
        "import tensorflow as tf"
      ],
      "execution_count": 19,
      "outputs": []
    },
    {
      "cell_type": "code",
      "metadata": {
        "id": "ErprKlijD10R",
        "colab_type": "code",
        "colab": {}
      },
      "source": [
        "#MNIST 데이터셋 임포트\n",
        "mnist = tf.keras.datasets.mnist\n",
        "(x_train, y_train), (x_test, y_test) = mnist.load_data()"
      ],
      "execution_count": 20,
      "outputs": []
    },
    {
      "cell_type": "code",
      "metadata": {
        "id": "3vro_qQqEDv3",
        "colab_type": "code",
        "colab": {}
      },
      "source": [
        "#데이터 전처리\n",
        "x_train, x_test = x_train/255.0, x_test/255. #0~255 사이의 값을 0~1.0 사이로 만들기 위함"
      ],
      "execution_count": 21,
      "outputs": []
    },
    {
      "cell_type": "code",
      "metadata": {
        "id": "SZgb7sF3EQ02",
        "colab_type": "code",
        "colab": {}
      },
      "source": [
        "#모델 구성\n",
        "# Sequential : 이전 layer의 output이 다음 layer의 input으로 들어가는 선형적인 경우\n",
        "model = tf.keras.models.Sequential([tf.keras.layers.Flatten(input_shape=(28,28)),\n",
        "                                    tf.keras.layers.Dense(512, activation=tf.nn.relu),\n",
        "                                    tf.keras.layers.Dense(10, activation=tf.nn.softmax)\n",
        "])\n",
        "# Flatten : 28*28 데이터를 일차원으로 만들기 위함\n",
        "# relu: 입력 값이 커질수록 어떤 경향을 보인다로 해석 가능 / 입력 값의 기울기는 어떤 경향을 보인다로 해석 가능\n",
        "# Softmax: 3개 이상을 분류할 때 자주 사용\n",
        "# Sigmoid: S형태, 모든 입력값이 증가함에 따라 결과값이 증가만 계속 되는.."
      ],
      "execution_count": 25,
      "outputs": []
    },
    {
      "cell_type": "code",
      "metadata": {
        "id": "YPWmHZmCETLT",
        "colab_type": "code",
        "colab": {}
      },
      "source": [
        "#모델 컴파일\n",
        "model.compile(optimizer='adam', loss='sparse_categorical_crossentropy', metrics=['accuracy'])\n",
        "#optimizer: 학습속도를 빠르고 안정적이게 하기 위함.\n",
        "#sparse_categorical_crossentropy: 다중 분류 손실함수, integer type"
      ],
      "execution_count": 26,
      "outputs": []
    },
    {
      "cell_type": "code",
      "metadata": {
        "id": "IXkUtS-iFId8",
        "colab_type": "code",
        "colab": {
          "base_uri": "https://localhost:8080/",
          "height": 222
        },
        "outputId": "efabb600-37fa-463b-9ec6-af2379762c9e"
      },
      "source": [
        "#모델 훈련\n",
        "model.fit(x_train, y_train, epochs=5)\n",
        "#epochs: 반복 횟수"
      ],
      "execution_count": 27,
      "outputs": [
        {
          "output_type": "stream",
          "text": [
            "Epoch 1/5\n",
            "1875/1875 [==============================] - 9s 5ms/step - loss: 0.2008 - accuracy: 0.9413\n",
            "Epoch 2/5\n",
            "1875/1875 [==============================] - 9s 5ms/step - loss: 0.0814 - accuracy: 0.9752\n",
            "Epoch 3/5\n",
            "1875/1875 [==============================] - 9s 5ms/step - loss: 0.0535 - accuracy: 0.9833\n",
            "Epoch 4/5\n",
            "1875/1875 [==============================] - 9s 5ms/step - loss: 0.0369 - accuracy: 0.9884\n",
            "Epoch 5/5\n",
            "1875/1875 [==============================] - 9s 5ms/step - loss: 0.0270 - accuracy: 0.9914\n"
          ],
          "name": "stdout"
        },
        {
          "output_type": "execute_result",
          "data": {
            "text/plain": [
              "<tensorflow.python.keras.callbacks.History at 0x7f47efe4ac50>"
            ]
          },
          "metadata": {
            "tags": []
          },
          "execution_count": 27
        }
      ]
    },
    {
      "cell_type": "code",
      "metadata": {
        "id": "p02yR0IRFN0Y",
        "colab_type": "code",
        "colab": {
          "base_uri": "https://localhost:8080/",
          "height": 50
        },
        "outputId": "21cb50f3-77ea-42f4-aad5-619dc65c9413"
      },
      "source": [
        "test_loss, test_acc = model.evaluate(x_test, y_test)\n",
        "print('테스트 정확도:', test_acc)"
      ],
      "execution_count": 28,
      "outputs": [
        {
          "output_type": "stream",
          "text": [
            "313/313 [==============================] - 1s 2ms/step - loss: 0.0762 - accuracy: 0.9776\n",
            "테스트 정확도: 0.9775999784469604\n"
          ],
          "name": "stdout"
        }
      ]
    },
    {
      "cell_type": "code",
      "metadata": {
        "id": "uzc0XkVmFocn",
        "colab_type": "code",
        "colab": {
          "base_uri": "https://localhost:8080/",
          "height": 558
        },
        "outputId": "8a51e8df-fab2-457c-f79d-b3624b8cb742"
      },
      "source": [
        "loss, accuracy = [], []\n",
        "for i in range(10):\n",
        "    model.fit(x_train, y_train, epochs=1)\n",
        "    loss.append(model.evaluate(x_test, y_test)[0])\n",
        "    accuracy.append(model.evaluate(x_test, y_test)[1])\n",
        "\n",
        "print(accuracy)"
      ],
      "execution_count": 29,
      "outputs": [
        {
          "output_type": "stream",
          "text": [
            "1875/1875 [==============================] - 9s 5ms/step - loss: 0.0227 - accuracy: 0.9930\n",
            "313/313 [==============================] - 1s 3ms/step - loss: 0.0749 - accuracy: 0.9793\n",
            "313/313 [==============================] - 1s 2ms/step - loss: 0.0749 - accuracy: 0.9793\n",
            "1875/1875 [==============================] - 9s 5ms/step - loss: 0.0162 - accuracy: 0.9949\n",
            "313/313 [==============================] - 1s 3ms/step - loss: 0.0843 - accuracy: 0.9790\n",
            "313/313 [==============================] - 1s 2ms/step - loss: 0.0843 - accuracy: 0.9790\n",
            "1875/1875 [==============================] - 9s 5ms/step - loss: 0.0158 - accuracy: 0.9949\n",
            "313/313 [==============================] - 1s 3ms/step - loss: 0.0659 - accuracy: 0.9828\n",
            "313/313 [==============================] - 1s 3ms/step - loss: 0.0659 - accuracy: 0.9828\n",
            "1875/1875 [==============================] - 9s 5ms/step - loss: 0.0126 - accuracy: 0.9957\n",
            "313/313 [==============================] - 1s 2ms/step - loss: 0.0708 - accuracy: 0.9822\n",
            "313/313 [==============================] - 1s 2ms/step - loss: 0.0708 - accuracy: 0.9822\n",
            "1875/1875 [==============================] - 9s 5ms/step - loss: 0.0102 - accuracy: 0.9966\n",
            "313/313 [==============================] - 1s 3ms/step - loss: 0.0827 - accuracy: 0.9806\n",
            "313/313 [==============================] - 1s 3ms/step - loss: 0.0827 - accuracy: 0.9806\n",
            "1875/1875 [==============================] - 9s 5ms/step - loss: 0.0106 - accuracy: 0.9964\n",
            "313/313 [==============================] - 1s 3ms/step - loss: 0.0906 - accuracy: 0.9813\n",
            "313/313 [==============================] - 1s 2ms/step - loss: 0.0906 - accuracy: 0.9813\n",
            "1875/1875 [==============================] - 9s 5ms/step - loss: 0.0097 - accuracy: 0.9969\n",
            "313/313 [==============================] - 1s 3ms/step - loss: 0.0838 - accuracy: 0.9805\n",
            "313/313 [==============================] - 1s 2ms/step - loss: 0.0838 - accuracy: 0.9805\n",
            "1875/1875 [==============================] - 9s 5ms/step - loss: 0.0064 - accuracy: 0.9978\n",
            "313/313 [==============================] - 1s 3ms/step - loss: 0.1015 - accuracy: 0.9800\n",
            "313/313 [==============================] - 1s 2ms/step - loss: 0.1015 - accuracy: 0.9800\n",
            "1875/1875 [==============================] - 9s 5ms/step - loss: 0.0084 - accuracy: 0.9975\n",
            "313/313 [==============================] - 1s 3ms/step - loss: 0.0983 - accuracy: 0.9808\n",
            "313/313 [==============================] - 1s 3ms/step - loss: 0.0983 - accuracy: 0.9808\n",
            "1875/1875 [==============================] - 9s 5ms/step - loss: 0.0075 - accuracy: 0.9977\n",
            "313/313 [==============================] - 1s 2ms/step - loss: 0.0890 - accuracy: 0.9824\n",
            "313/313 [==============================] - 1s 2ms/step - loss: 0.0890 - accuracy: 0.9824\n",
            "[0.9793000221252441, 0.9789999723434448, 0.9828000068664551, 0.982200026512146, 0.9805999994277954, 0.9812999963760376, 0.9804999828338623, 0.9800000190734863, 0.9807999730110168, 0.9824000000953674]\n"
          ],
          "name": "stdout"
        }
      ]
    },
    {
      "cell_type": "code",
      "metadata": {
        "id": "tsQGpghwGDK5",
        "colab_type": "code",
        "colab": {}
      },
      "source": [
        ""
      ],
      "execution_count": 34,
      "outputs": []
    },
    {
      "cell_type": "code",
      "metadata": {
        "id": "sCPXjCdiHh1P",
        "colab_type": "code",
        "colab": {}
      },
      "source": [
        ""
      ],
      "execution_count": null,
      "outputs": []
    }
  ]
}