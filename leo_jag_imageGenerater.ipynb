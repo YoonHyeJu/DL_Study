{
  "nbformat": 4,
  "nbformat_minor": 0,
  "metadata": {
    "colab": {
      "name": "leo_jag_imageGenerater.ipynb",
      "provenance": [],
      "collapsed_sections": [],
      "authorship_tag": "ABX9TyNwXBW0EJdeCKVNz0DQKJAF",
      "include_colab_link": true
    },
    "kernelspec": {
      "name": "python3",
      "display_name": "Python 3"
    }
  },
  "cells": [
    {
      "cell_type": "markdown",
      "metadata": {
        "id": "view-in-github",
        "colab_type": "text"
      },
      "source": [
        "<a href=\"https://colab.research.google.com/github/YoonHyeJu/project1/blob/master/leo_jag_imageGenerater.ipynb\" target=\"_parent\"><img src=\"https://colab.research.google.com/assets/colab-badge.svg\" alt=\"Open In Colab\"/></a>"
      ]
    },
    {
      "cell_type": "code",
      "metadata": {
        "id": "gxu_gTcKpsbw",
        "colab_type": "code",
        "colab": {
          "base_uri": "https://localhost:8080/",
          "height": 34
        },
        "outputId": "7eef19be-151c-4bb2-e435-7c2b81f42375"
      },
      "source": [
        "from google.colab import drive\n",
        "drive.mount('/content/gdrive')"
      ],
      "execution_count": 42,
      "outputs": [
        {
          "output_type": "stream",
          "text": [
            "Drive already mounted at /content/gdrive; to attempt to forcibly remount, call drive.mount(\"/content/gdrive\", force_remount=True).\n"
          ],
          "name": "stdout"
        }
      ]
    },
    {
      "cell_type": "code",
      "metadata": {
        "id": "VkwKng9Mpzjo",
        "colab_type": "code",
        "colab": {}
      },
      "source": [
        "from keras.preprocessing.image import load_img"
      ],
      "execution_count": 43,
      "outputs": []
    },
    {
      "cell_type": "code",
      "metadata": {
        "id": "X4KzR-fKrKJh",
        "colab_type": "code",
        "colab": {}
      },
      "source": [
        "path = '/content/gdrive/My Drive/Colab Notebooks/original_jag_leo/'"
      ],
      "execution_count": 44,
      "outputs": []
    },
    {
      "cell_type": "code",
      "metadata": {
        "id": "AHJ7wFwErR8O",
        "colab_type": "code",
        "colab": {}
      },
      "source": [
        "jag_dir = path + 'jaguar'\n",
        "leo_dir = path + 'leopard'\n",
        "# import os\n",
        "# len(os.listdir(jag_dir))"
      ],
      "execution_count": 55,
      "outputs": []
    },
    {
      "cell_type": "code",
      "metadata": {
        "id": "xnSrATMxu9FL",
        "colab_type": "code",
        "colab": {}
      },
      "source": [
        "img_width, img_height = 224,224\n",
        "batch_size = 32"
      ],
      "execution_count": 56,
      "outputs": []
    },
    {
      "cell_type": "code",
      "metadata": {
        "id": "m1ZRiHo1raT8",
        "colab_type": "code",
        "colab": {}
      },
      "source": [
        "from keras.preprocessing.image import ImageDataGenerator"
      ],
      "execution_count": 57,
      "outputs": []
    },
    {
      "cell_type": "code",
      "metadata": {
        "id": "Qurl-fattJwm",
        "colab_type": "code",
        "colab": {}
      },
      "source": [
        "jag_gen = ImageDataGenerator(rescale=1/255.,\n",
        "                                      horizontal_flip = True, \n",
        "                                      vertical_flip = True,\n",
        "                                      fill_mode = 'nearest',\n",
        "                                      rotation_range=15)\n",
        "\n",
        "leo_gen = ImageDataGenerator(rotation_range=15, \n",
        "                             horizontal_flip=True,\n",
        "                             vertical_flip = True,\n",
        "                             rescale = 1/255.)\n",
        "image_gen = ImageDataGenerator(rescale=1/255.,\n",
        "                                      horizontal_flip = True, \n",
        "                                      vertical_flip = True,\n",
        "                                      fill_mode = 'nearest',\n",
        "                                      rotation_range=15)"
      ],
      "execution_count": 86,
      "outputs": []
    },
    {
      "cell_type": "code",
      "metadata": {
        "id": "AGrFCebjtupS",
        "colab_type": "code",
        "colab": {
          "base_uri": "https://localhost:8080/",
          "height": 34
        },
        "outputId": "3adf5e80-f38c-45ca-ffec-d9a816fa1b27"
      },
      "source": [
        "image_data_gen = image_gen.flow_from_directory(jag_dir,\n",
        "                                           batch_size=batch_size,\n",
        "                                           target_size = (img_width, img_height),\n",
        "                                           class_mode = 'categorical',\n",
        "                                           shuffle = True,\n",
        "                                           save_to_dir = jag_dir\n",
        "                                           )\n",
        "\n",
        "i=0\n",
        "# for batch in jag_gen.flow_from_directory(directory = jag_dir, target_size=(img_height,img_width), save_to_dir = jag_dir, save_format='png'):\n",
        "#     i+=1\n",
        "#     if i> 10:\n",
        "#         break\n",
        "# x_train_batch = next(train_image_data_generator_iterator)\n",
        "for i in range(10):\n",
        "    image_data_gen.next()\n"
      ],
      "execution_count": 87,
      "outputs": [
        {
          "output_type": "stream",
          "text": [
            "Found 50 images belonging to 3 classes.\n"
          ],
          "name": "stdout"
        }
      ]
    },
    {
      "cell_type": "code",
      "metadata": {
        "id": "WJrfjeITuUui",
        "colab_type": "code",
        "colab": {
          "base_uri": "https://localhost:8080/",
          "height": 34
        },
        "outputId": "30d9e654-6599-4b0d-ad0c-f07dec23cb0c"
      },
      "source": [
        "image_data_gen = image_gen.flow_from_directory(leo_dir,\n",
        "                                           batch_size=batch_size,\n",
        "                                           target_size = (img_width, img_height),\n",
        "                                           class_mode = 'categorical',\n",
        "                                           shuffle = True,\n",
        "                                           save_to_dir = leo_dir\n",
        "                                           )\n",
        "\n",
        "i=0\n",
        "\n",
        "for i in range(10):\n",
        "    image_data_gen.next()\n"
      ],
      "execution_count": 88,
      "outputs": [
        {
          "output_type": "stream",
          "text": [
            "Found 50 images belonging to 3 classes.\n"
          ],
          "name": "stdout"
        }
      ]
    },
    {
      "cell_type": "code",
      "metadata": {
        "id": "WqgRwgSQGM4K",
        "colab_type": "code",
        "colab": {}
      },
      "source": [
        ""
      ],
      "execution_count": null,
      "outputs": []
    }
  ]
}