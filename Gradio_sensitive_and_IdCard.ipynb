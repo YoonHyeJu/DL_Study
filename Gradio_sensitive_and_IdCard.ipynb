{
  "nbformat": 4,
  "nbformat_minor": 0,
  "metadata": {
    "colab": {
      "name": "Gradio_sensitive_and_IdCard.ipynb",
      "provenance": [],
      "collapsed_sections": [],
      "authorship_tag": "ABX9TyNPVSowZxRZPTR5Nw2Auaox",
      "include_colab_link": true
    },
    "kernelspec": {
      "name": "python3",
      "display_name": "Python 3"
    },
    "accelerator": "GPU"
  },
  "cells": [
    {
      "cell_type": "markdown",
      "metadata": {
        "id": "view-in-github",
        "colab_type": "text"
      },
      "source": [
        "<a href=\"https://colab.research.google.com/github/YoonHyeJu/project1/blob/master/Gradio_sensitive_and_IdCard.ipynb\" target=\"_parent\"><img src=\"https://colab.research.google.com/assets/colab-badge.svg\" alt=\"Open In Colab\"/></a>"
      ]
    },
    {
      "cell_type": "code",
      "metadata": {
        "id": "FbUir6d8TTS1",
        "colab_type": "code",
        "colab": {}
      },
      "source": [
        "from google.colab import drive"
      ],
      "execution_count": 1,
      "outputs": []
    },
    {
      "cell_type": "code",
      "metadata": {
        "id": "K646FudkYiLa",
        "colab_type": "code",
        "colab": {
          "base_uri": "https://localhost:8080/",
          "height": 125
        },
        "outputId": "176a364a-a4b9-4a5d-dc3f-3dbea71b71a4"
      },
      "source": [
        "drive.mount('/content/grive')"
      ],
      "execution_count": 2,
      "outputs": [
        {
          "output_type": "stream",
          "text": [
            "Go to this URL in a browser: https://accounts.google.com/o/oauth2/auth?client_id=947318989803-6bn6qk8qdgf4n4g3pfee6491hc0brc4i.apps.googleusercontent.com&redirect_uri=urn%3aietf%3awg%3aoauth%3a2.0%3aoob&scope=email%20https%3a%2f%2fwww.googleapis.com%2fauth%2fdocs.test%20https%3a%2f%2fwww.googleapis.com%2fauth%2fdrive%20https%3a%2f%2fwww.googleapis.com%2fauth%2fdrive.photos.readonly%20https%3a%2f%2fwww.googleapis.com%2fauth%2fpeopleapi.readonly&response_type=code\n",
            "\n",
            "Enter your authorization code:\n",
            "··········\n",
            "Mounted at /content/grive\n"
          ],
          "name": "stdout"
        }
      ]
    },
    {
      "cell_type": "code",
      "metadata": {
        "id": "bndn4kSAYnot",
        "colab_type": "code",
        "colab": {
          "base_uri": "https://localhost:8080/",
          "height": 34
        },
        "outputId": "2de327ad-1b31-4e05-816f-618ef6a09a94"
      },
      "source": [
        "cd /content/grive/My Drive/Colab Notebooks"
      ],
      "execution_count": 3,
      "outputs": [
        {
          "output_type": "stream",
          "text": [
            "/content/grive/My Drive/Colab Notebooks\n"
          ],
          "name": "stdout"
        }
      ]
    },
    {
      "cell_type": "code",
      "metadata": {
        "id": "gsUW-4_eY77T",
        "colab_type": "code",
        "colab": {
          "base_uri": "https://localhost:8080/",
          "height": 970
        },
        "outputId": "cd58bd74-7087-4e34-ff3e-9e754f3962c7"
      },
      "source": [
        "!pip install gradio "
      ],
      "execution_count": 4,
      "outputs": [
        {
          "output_type": "stream",
          "text": [
            "Collecting gradio\n",
            "\u001b[?25l  Downloading https://files.pythonhosted.org/packages/7d/66/a9f7fcc853b64d5b432b7cca9bd0f6a09c56778c80203c7bbe7a97234838/gradio-1.1.6-py3-none-any.whl (973kB)\n",
            "\u001b[K     |████████████████████████████████| 983kB 8.9MB/s \n",
            "\u001b[?25hRequirement already satisfied: scikit-image in /usr/local/lib/python3.6/dist-packages (from gradio) (0.16.2)\n",
            "Requirement already satisfied: IPython in /usr/local/lib/python3.6/dist-packages (from gradio) (5.5.0)\n",
            "Requirement already satisfied: pandas in /usr/local/lib/python3.6/dist-packages (from gradio) (1.0.5)\n",
            "Collecting analytics-python\n",
            "  Downloading https://files.pythonhosted.org/packages/d3/37/c49d052f88655cd96445c36979fb63f69ef859e167eaff5706ca7c8a8ee3/analytics_python-1.2.9-py2.py3-none-any.whl\n",
            "Requirement already satisfied: requests in /usr/local/lib/python3.6/dist-packages (from gradio) (2.23.0)\n",
            "Requirement already satisfied: scipy in /usr/local/lib/python3.6/dist-packages (from gradio) (1.4.1)\n",
            "Collecting paramiko\n",
            "\u001b[?25l  Downloading https://files.pythonhosted.org/packages/06/1e/1e08baaaf6c3d3df1459fd85f0e7d2d6aa916f33958f151ee1ecc9800971/paramiko-2.7.1-py2.py3-none-any.whl (206kB)\n",
            "\u001b[K     |████████████████████████████████| 215kB 31.1MB/s \n",
            "\u001b[?25hRequirement already satisfied: numpy in /usr/local/lib/python3.6/dist-packages (from gradio) (1.18.5)\n",
            "Requirement already satisfied: PyWavelets>=0.4.0 in /usr/local/lib/python3.6/dist-packages (from scikit-image->gradio) (1.1.1)\n",
            "Requirement already satisfied: matplotlib!=3.0.0,>=2.0.0 in /usr/local/lib/python3.6/dist-packages (from scikit-image->gradio) (3.2.2)\n",
            "Requirement already satisfied: networkx>=2.0 in /usr/local/lib/python3.6/dist-packages (from scikit-image->gradio) (2.4)\n",
            "Requirement already satisfied: pillow>=4.3.0 in /usr/local/lib/python3.6/dist-packages (from scikit-image->gradio) (7.0.0)\n",
            "Requirement already satisfied: imageio>=2.3.0 in /usr/local/lib/python3.6/dist-packages (from scikit-image->gradio) (2.4.1)\n",
            "Requirement already satisfied: pygments in /usr/local/lib/python3.6/dist-packages (from IPython->gradio) (2.1.3)\n",
            "Requirement already satisfied: setuptools>=18.5 in /usr/local/lib/python3.6/dist-packages (from IPython->gradio) (49.6.0)\n",
            "Requirement already satisfied: pexpect; sys_platform != \"win32\" in /usr/local/lib/python3.6/dist-packages (from IPython->gradio) (4.8.0)\n",
            "Requirement already satisfied: simplegeneric>0.8 in /usr/local/lib/python3.6/dist-packages (from IPython->gradio) (0.8.1)\n",
            "Requirement already satisfied: prompt-toolkit<2.0.0,>=1.0.4 in /usr/local/lib/python3.6/dist-packages (from IPython->gradio) (1.0.18)\n",
            "Requirement already satisfied: traitlets>=4.2 in /usr/local/lib/python3.6/dist-packages (from IPython->gradio) (4.3.3)\n",
            "Requirement already satisfied: pickleshare in /usr/local/lib/python3.6/dist-packages (from IPython->gradio) (0.7.5)\n",
            "Requirement already satisfied: decorator in /usr/local/lib/python3.6/dist-packages (from IPython->gradio) (4.4.2)\n",
            "Requirement already satisfied: python-dateutil>=2.6.1 in /usr/local/lib/python3.6/dist-packages (from pandas->gradio) (2.8.1)\n",
            "Requirement already satisfied: pytz>=2017.2 in /usr/local/lib/python3.6/dist-packages (from pandas->gradio) (2018.9)\n",
            "Requirement already satisfied: six>=1.5 in /usr/local/lib/python3.6/dist-packages (from analytics-python->gradio) (1.15.0)\n",
            "Requirement already satisfied: certifi>=2017.4.17 in /usr/local/lib/python3.6/dist-packages (from requests->gradio) (2020.6.20)\n",
            "Requirement already satisfied: chardet<4,>=3.0.2 in /usr/local/lib/python3.6/dist-packages (from requests->gradio) (3.0.4)\n",
            "Requirement already satisfied: urllib3!=1.25.0,!=1.25.1,<1.26,>=1.21.1 in /usr/local/lib/python3.6/dist-packages (from requests->gradio) (1.24.3)\n",
            "Requirement already satisfied: idna<3,>=2.5 in /usr/local/lib/python3.6/dist-packages (from requests->gradio) (2.10)\n",
            "Collecting cryptography>=2.5\n",
            "\u001b[?25l  Downloading https://files.pythonhosted.org/packages/ba/91/84a29d6a27fd6dfc21f475704c4d2053d58ed7a4033c2b0ce1b4ca4d03d9/cryptography-3.0-cp35-abi3-manylinux2010_x86_64.whl (2.7MB)\n",
            "\u001b[K     |████████████████████████████████| 2.7MB 31.7MB/s \n",
            "\u001b[?25hCollecting bcrypt>=3.1.3\n",
            "\u001b[?25l  Downloading https://files.pythonhosted.org/packages/26/70/6d218afbe4c73538053c1016dd631e8f25fffc10cd01f5c272d7acf3c03d/bcrypt-3.2.0-cp36-abi3-manylinux2010_x86_64.whl (63kB)\n",
            "\u001b[K     |████████████████████████████████| 71kB 11.1MB/s \n",
            "\u001b[?25hCollecting pynacl>=1.0.1\n",
            "\u001b[?25l  Downloading https://files.pythonhosted.org/packages/9d/57/2f5e6226a674b2bcb6db531e8b383079b678df5b10cdaa610d6cf20d77ba/PyNaCl-1.4.0-cp35-abi3-manylinux1_x86_64.whl (961kB)\n",
            "\u001b[K     |████████████████████████████████| 962kB 52.8MB/s \n",
            "\u001b[?25hRequirement already satisfied: cycler>=0.10 in /usr/local/lib/python3.6/dist-packages (from matplotlib!=3.0.0,>=2.0.0->scikit-image->gradio) (0.10.0)\n",
            "Requirement already satisfied: kiwisolver>=1.0.1 in /usr/local/lib/python3.6/dist-packages (from matplotlib!=3.0.0,>=2.0.0->scikit-image->gradio) (1.2.0)\n",
            "Requirement already satisfied: pyparsing!=2.0.4,!=2.1.2,!=2.1.6,>=2.0.1 in /usr/local/lib/python3.6/dist-packages (from matplotlib!=3.0.0,>=2.0.0->scikit-image->gradio) (2.4.7)\n",
            "Requirement already satisfied: ptyprocess>=0.5 in /usr/local/lib/python3.6/dist-packages (from pexpect; sys_platform != \"win32\"->IPython->gradio) (0.6.0)\n",
            "Requirement already satisfied: wcwidth in /usr/local/lib/python3.6/dist-packages (from prompt-toolkit<2.0.0,>=1.0.4->IPython->gradio) (0.2.5)\n",
            "Requirement already satisfied: ipython-genutils in /usr/local/lib/python3.6/dist-packages (from traitlets>=4.2->IPython->gradio) (0.2.0)\n",
            "Requirement already satisfied: cffi!=1.11.3,>=1.8 in /usr/local/lib/python3.6/dist-packages (from cryptography>=2.5->paramiko->gradio) (1.14.2)\n",
            "Requirement already satisfied: pycparser in /usr/local/lib/python3.6/dist-packages (from cffi!=1.11.3,>=1.8->cryptography>=2.5->paramiko->gradio) (2.20)\n",
            "Installing collected packages: analytics-python, cryptography, bcrypt, pynacl, paramiko, gradio\n",
            "Successfully installed analytics-python-1.2.9 bcrypt-3.2.0 cryptography-3.0 gradio-1.1.6 paramiko-2.7.1 pynacl-1.4.0\n"
          ],
          "name": "stdout"
        }
      ]
    },
    {
      "cell_type": "code",
      "metadata": {
        "id": "zYQug_SEY-6e",
        "colab_type": "code",
        "colab": {
          "base_uri": "https://localhost:8080/",
          "height": 193
        },
        "outputId": "a1e71c65-3e4c-42e3-ab20-e76dc3d49f90"
      },
      "source": [
        "!pip install doqu"
      ],
      "execution_count": 5,
      "outputs": [
        {
          "output_type": "stream",
          "text": [
            "Collecting doqu\n",
            "\u001b[?25l  Downloading https://files.pythonhosted.org/packages/7c/7f/f143c250f225b19ecea4e7d39f0158cde7bb449545ac99a17a3e90556df0/doqu-0.28.2.tar.gz (54kB)\n",
            "\r\u001b[K     |██████                          | 10kB 22.3MB/s eta 0:00:01\r\u001b[K     |████████████                    | 20kB 6.7MB/s eta 0:00:01\r\u001b[K     |██████████████████              | 30kB 8.1MB/s eta 0:00:01\r\u001b[K     |███████████████████████▉        | 40kB 8.9MB/s eta 0:00:01\r\u001b[K     |█████████████████████████████▉  | 51kB 7.8MB/s eta 0:00:01\r\u001b[K     |████████████████████████████████| 61kB 4.6MB/s \n",
            "\u001b[?25hBuilding wheels for collected packages: doqu\n",
            "  Building wheel for doqu (setup.py) ... \u001b[?25l\u001b[?25hdone\n",
            "  Created wheel for doqu: filename=doqu-0.28.2-cp36-none-any.whl size=80917 sha256=1d5f6868d571c96e626416e012438ff0f18ac65a37366caf13e5b39be068a7e4\n",
            "  Stored in directory: /root/.cache/pip/wheels/e3/3b/0a/773eefceefaf461b52b68a846e4de8c0030966e11319030721\n",
            "Successfully built doqu\n",
            "Installing collected packages: doqu\n",
            "Successfully installed doqu-0.28.2\n"
          ],
          "name": "stdout"
        }
      ]
    },
    {
      "cell_type": "code",
      "metadata": {
        "id": "bT2WQicMZBi3",
        "colab_type": "code",
        "colab": {
          "base_uri": "https://localhost:8080/",
          "height": 87
        },
        "outputId": "a9e601e2-a7d7-4d4a-b15e-2c9d39d0d796"
      },
      "source": [
        "!pip install utils"
      ],
      "execution_count": 6,
      "outputs": [
        {
          "output_type": "stream",
          "text": [
            "Collecting utils\n",
            "  Downloading https://files.pythonhosted.org/packages/55/e6/c2d2b2703e7debc8b501caae0e6f7ead148fd0faa3c8131292a599930029/utils-1.0.1-py2.py3-none-any.whl\n",
            "Installing collected packages: utils\n",
            "Successfully installed utils-1.0.1\n"
          ],
          "name": "stdout"
        }
      ]
    },
    {
      "cell_type": "code",
      "metadata": {
        "id": "25eKZ9O2ZN2L",
        "colab_type": "code",
        "colab": {
          "base_uri": "https://localhost:8080/",
          "height": 34
        },
        "outputId": "aa676756-6a7c-425b-9b06-3ddc983f3f21"
      },
      "source": [
        "cd /content/grive/My Drive/Colab Notebooks/sensitive_label_detection/yolov3"
      ],
      "execution_count": 9,
      "outputs": [
        {
          "output_type": "stream",
          "text": [
            "/content/grive/My Drive/Colab Notebooks/sensitive_label_detection/yolov3\n"
          ],
          "name": "stdout"
        }
      ]
    },
    {
      "cell_type": "code",
      "metadata": {
        "id": "nubPyr4pZDD6",
        "colab_type": "code",
        "colab": {}
      },
      "source": [
        "import argparse"
      ],
      "execution_count": 10,
      "outputs": []
    },
    {
      "cell_type": "code",
      "metadata": {
        "id": "29oLwC7-ZElj",
        "colab_type": "code",
        "colab": {}
      },
      "source": [
        "from models import * # set ONNX_EXPORT in models.py\n",
        "from utils.datasets import *\n",
        "from utils.utils import *\n",
        "import gradio as gr\n",
        "import tensorflow as tf\n",
        "import numpy as np\n",
        "from PIL import Image\n",
        "import requests\n",
        "import cv2"
      ],
      "execution_count": 11,
      "outputs": []
    },
    {
      "cell_type": "code",
      "metadata": {
        "id": "yVBk2sZBcNgz",
        "colab_type": "code",
        "colab": {}
      },
      "source": [
        "def ID_card_detect(source):\n",
        "    inp = Image.fromarray(source.astype('uint8'), 'RGB')\n",
        "    filename = \"test.jpeg\"\n",
        "    inp.save(filename, \"JPEG\")\n",
        "\n",
        "    cfg = '/content/grive/My Drive/Colab Notebooks/ID_card_detection/yolov3/cfg/yolov3-tiny.cfg'\n",
        "    names = '/content/grive/My Drive/Colab Notebooks/ID_card_detection/yolov3/data/coco_id.names'\n",
        "    weights = '/content/grive/My Drive/Colab Notebooks/ID_card_detection/yolov3/weights/ID_Card_Detection.pt'\n",
        "    out = 'output'\n",
        "    img_size=512\n",
        "    conf_thres=0.3\n",
        "    iou_thres=0.6\n",
        "    fourcc='mp4v'\n",
        "    half=False\n",
        "    device=''\n",
        "    view_img=False\n",
        "    save_txt = False\n",
        "    classes=None\n",
        "    agnostic_nms=False\n",
        "    augment=False\n",
        "    cfg = check_file(cfg)\n",
        "    names = check_file(names)\n",
        "    save_img = True\n",
        "\n",
        "\n",
        "    imgsz = (320, 192) if ONNX_EXPORT else img_size\n",
        "\n",
        "    device = torch_utils.select_device(device='cpu' if ONNX_EXPORT else device)\n",
        "    if os.path.exists(out):\n",
        "        shutil.rmtree(out)\n",
        "    os.makedirs(out)\n",
        "\n",
        "    model = Darknet(cfg, imgsz)\n",
        "\n",
        "    attempt_download(weights)\n",
        "    if weights.endswith('.pt'):\n",
        "        model.load_state_dict(torch.load(weights, map_location=device)['model'])\n",
        "    else:\n",
        "        load_darknet_weights(model, weights)\n",
        "\n",
        "    classify = False\n",
        "    if classify:\n",
        "        modelc = torch_utils.load_classifier(name='resnet101', n=2)  # initialize\n",
        "        modelc.load_state_dict(torch.load('weights/resnet101.pt', map_location=device)['model'])  # load weights\n",
        "        modelc.to(device).eval()\n",
        "\n",
        "    # Eval mode\n",
        "    model.to(device).eval()\n",
        "\n",
        "    # Fuse Conv2d + BatchNorm2d layers\n",
        "    # model.fuse()\n",
        "    # Export mode\n",
        "    if ONNX_EXPORT:\n",
        "        model.fuse()\n",
        "        img = torch.zeros((1, 3) + imgsz)  # (1, 3, 320, 192)\n",
        "        f = weights.replace(weights.split('.')[-1], 'onnx')  # *.onnx filename\n",
        "        torch.onnx.export(model, img, f, verbose=False, opset_version=11,\n",
        "                          input_names=['images'], output_names=['classes', 'boxes'])\n",
        "\n",
        "        # Validate exported model\n",
        "        import onnx\n",
        "        model = onnx.load(f)  # Load the ONNX model\n",
        "        onnx.checker.check_model(model)  # Check that the IR is well formed\n",
        "        print(onnx.helper.printable_graph(model.graph))  # Print a human readable representation of the graph\n",
        "        return\n",
        "\n",
        "    # Half precision\n",
        "    half = half and device.type != 'cpu'  # half precision only supported on CUDA\n",
        "    if half:\n",
        "        model.half()\n",
        "\n",
        "    # Set Dataloader\n",
        "    vid_path, vid_writer = None, None\n",
        "    #############\n",
        "    dataset = LoadImages(filename, img_size=imgsz)\n",
        "    names=load_classes(names)\n",
        "    colors = [[random.randint(0, 255) for _ in range(3)] for _ in range(len(names))]\n",
        "\n",
        "    # Run inference\n",
        "    t0 = time.time()\n",
        "    img = torch.zeros((1, 3, imgsz, imgsz), device=device)  # init img\n",
        "    _ = model(img.half() if half else img.float()) if device.type != 'cpu' else None  # run once\n",
        "    for path, img, im0s, vid_cap in dataset:\n",
        "        img = torch.from_numpy(img).to(device)\n",
        "        img = img.half() if half else img.float()  # uint8 to fp16/32\n",
        "        img /= 255.0  # 0 - 255 to 0.0 - 1.0\n",
        "        if img.ndimension() == 3:\n",
        "            img = img.unsqueeze(0)\n",
        "\n",
        "        # Inference\n",
        "        t1 = torch_utils.time_synchronized()\n",
        "        pred = model(img, augment=augment)[0]\n",
        "        t2 = torch_utils.time_synchronized()\n",
        "\n",
        "        # to float\n",
        "        if half:\n",
        "            pred = pred.float()\n",
        "\n",
        "        # Apply NMS\n",
        "        pred = non_max_suppression(pred, conf_thres, iou_thres,\n",
        "                                   multi_label=False, classes=classes, agnostic=agnostic_nms)\n",
        "        \n",
        "        # Apply Classifier\n",
        "        if classify:\n",
        "            pred = apply_classifier(pred, modelc, img, im0s)\n",
        "\n",
        "        # Process detections\n",
        "        for i, det in enumerate(pred):  # detections for image i\n",
        "            p, s, im0 = path, '', im0s\n",
        "\n",
        "            save_path = str(Path(out) / Path(p).name)\n",
        "            s += '%gx%g ' % img.shape[2:]  # print string\n",
        "            gn = torch.tensor(im0.shape)[[1, 0, 1, 0]]  #  normalization gain whwh\n",
        "            if det is not None and len(det):\n",
        "                # Rescale boxes from imgsz to im0 size\n",
        "                det[:, :4] = scale_coords(img.shape[2:], det[:, :4], im0.shape).round()\n",
        "\n",
        "                # Print results\n",
        "                for c in det[:, -1].detach().unique():\n",
        "                    n = (det[:, -1] == c).sum()  # detections per class\n",
        "                    s += '%g %ss, ' % (n, names[int(c)])  # add to string\n",
        "\n",
        "                # Write results\n",
        "                for *xyxy, conf, cls in reversed(det):\n",
        "                    if save_txt:  # Write to file\n",
        "                        xywh = (xyxy2xywh(torch.tensor(xyxy).view(1, 4)) / gn).view(-1).tolist()  # normalized xywh\n",
        "                        with open(save_path[:save_path.rfind('.')] + '.txt', 'a') as file:\n",
        "                            file.write(('%g ' * 5 + '\\n') % (cls, *xywh))  # label format\n",
        "\n",
        "                    if save_img or view_img:  # Add bbox to image\n",
        "                        label = '%s %.2f' % (names[int(cls)], conf)\n",
        "                        plot_one_box(xyxy, im0, label=label, color=colors[int(cls)])\n",
        "\n",
        "            # Print time (inference + NMS)\n",
        "            print('%sDone. (%.3fs)' % (s, t2 - t1))\n",
        "\n",
        "            # Stream results\n",
        "            if view_img:\n",
        "                cv2.imshow(p, im0)\n",
        "                if cv2.waitKey(1) == ord('q'):  # q to quit\n",
        "                    raise StopIteration\n",
        "\n",
        "            # Save results (image with detections)\n",
        "            if save_img:\n",
        "                if dataset.mode == 'images':\n",
        "                    cv2.imwrite(save_path, im0)\n",
        "                else:\n",
        "                    if vid_path != save_path:  # new video\n",
        "                        vid_path = save_path\n",
        "                        if isinstance(vid_writer, cv2.VideoWriter):\n",
        "                            vid_writer.release()  # release previous video writer\n",
        "\n",
        "                        fps = vid_cap.get(cv2.CAP_PROP_FPS)\n",
        "                        w = int(vid_cap.get(cv2.CAP_PROP_FRAME_WIDTH))\n",
        "                        h = int(vid_cap.get(cv2.CAP_PROP_FRAME_HEIGHT))\n",
        "                        vid_writer = cv2.VideoWriter(save_path, cv2.VideoWriter_fourcc(*fourcc), fps, (w, h))\n",
        "                    vid_writer.write(im0)\n",
        "    if save_txt or save_img:\n",
        "        print('Results saved to %s' % os.getcwd() + os.sep + out)\n",
        "        if platform == 'darwin':  # MacOS\n",
        "            os.system('open ' + save_path)\n",
        "\n",
        "    print('Done. (%.3fs)' % (time.time() - t0))\n",
        "    print('save path: ')\n",
        "    out_path=os.getcwd() + os.sep + save_path\n",
        "    return out_path\n"
      ],
      "execution_count": 61,
      "outputs": []
    },
    {
      "cell_type": "code",
      "metadata": {
        "id": "kMCHR74VZF_C",
        "colab_type": "code",
        "colab": {}
      },
      "source": [
        "def sensitive_label_detect(source):\n",
        "    inp = Image.fromarray(source.astype('uint8'), 'RGB')\n",
        "    filename = \"test.jpeg\"\n",
        "    inp.save(filename, \"JPEG\")\n",
        "\n",
        "    cfg = '/content/grive/My Drive/Colab Notebooks/sensitive_label_detection/yolov3/cfg/yolov3-tiny.cfg'\n",
        "    names = '/content/grive/My Drive/Colab Notebooks/sensitive_label_detection/yolov3/data/coco_id.names'\n",
        "    weights = '/content/grive/My Drive/Colab Notebooks/sensitive_label_detection/yolov3/weights/last.pt'\n",
        "    out = 'output'\n",
        "    img_size=512\n",
        "    conf_thres=0.3\n",
        "    iou_thres=0.6\n",
        "    fourcc='mp4v'\n",
        "    half=False\n",
        "    device=''\n",
        "    view_img=False\n",
        "    save_txt = False\n",
        "    classes=None\n",
        "    agnostic_nms=False\n",
        "    augment=False\n",
        "    cfg = check_file(cfg)\n",
        "    names = check_file(names)\n",
        "    save_img = True\n",
        "\n",
        "\n",
        "    imgsz = (320, 192) if ONNX_EXPORT else img_size\n",
        "\n",
        "    device = torch_utils.select_device(device='cpu' if ONNX_EXPORT else device)\n",
        "    if os.path.exists(out):\n",
        "        shutil.rmtree(out)\n",
        "    os.makedirs(out)\n",
        "\n",
        "    model = Darknet(cfg, imgsz)\n",
        "\n",
        "    attempt_download(weights)\n",
        "    if weights.endswith('.pt'):\n",
        "        model.load_state_dict(torch.load(weights, map_location=device)['model'])\n",
        "    else:\n",
        "        load_darknet_weights(model, weights)\n",
        "\n",
        "    classify = False\n",
        "    if classify:\n",
        "        modelc = torch_utils.load_classifier(name='resnet101', n=2)  # initialize\n",
        "        modelc.load_state_dict(torch.load('weights/resnet101.pt', map_location=device)['model'])  # load weights\n",
        "        modelc.to(device).eval()\n",
        "\n",
        "    # Eval mode\n",
        "    model.to(device).eval()\n",
        "    \n",
        "    # Fuse Conv2d + BatchNorm2d layers\n",
        "    # model.fuse()\n",
        "\n",
        "    # Export mode\n",
        "    if ONNX_EXPORT:\n",
        "        model.fuse()\n",
        "        img = torch.zeros((1, 3) + imgsz)  # (1, 3, 320, 192)\n",
        "        f = weights.replace(weights.split('.')[-1], 'onnx')  # *.onnx filename\n",
        "        torch.onnx.export(model, img, f, verbose=False, opset_version=11,\n",
        "                          input_names=['images'], output_names=['classes', 'boxes'])\n",
        "\n",
        "        # Validate exported model\n",
        "        import onnx\n",
        "        model = onnx.load(f)  # Load the ONNX model\n",
        "        onnx.checker.check_model(model)  # Check that the IR is well formed\n",
        "        print(onnx.helper.printable_graph(model.graph))  # Print a human readable representation of the graph\n",
        "        return\n",
        "\n",
        "    # Half precision\n",
        "    half = half and device.type != 'cpu'  # half precision only supported on CUDA\n",
        "    if half:\n",
        "        model.half()\n",
        "\n",
        "    # Set Dataloader\n",
        "    vid_path, vid_writer = None, None\n",
        "    #############\n",
        "    dataset = LoadImages(filename, img_size=imgsz)\n",
        "    names=load_classes(names)\n",
        "    colors = [[random.randint(0, 255) for _ in range(3)] for _ in range(len(names))]\n",
        "\n",
        "    # Run inference\n",
        "    t0 = time.time()\n",
        "    img = torch.zeros((1, 3, imgsz, imgsz), device=device)  # init img\n",
        "    _ = model(img.half() if half else img.float()) if device.type != 'cpu' else None  # run once\n",
        "    for path, img, im0s, vid_cap in dataset:\n",
        "        img = torch.from_numpy(img).to(device)\n",
        "        img = img.half() if half else img.float()  # uint8 to fp16/32\n",
        "        img /= 255.0  # 0 - 255 to 0.0 - 1.0\n",
        "        if img.ndimension() == 3:\n",
        "            img = img.unsqueeze(0)\n",
        "\n",
        "        # Inference\n",
        "        t1 = torch_utils.time_synchronized()\n",
        "        pred = model(img, augment=augment)[0]\n",
        "        t2 = torch_utils.time_synchronized()\n",
        "\n",
        "        # to float\n",
        "        if half:\n",
        "            pred = pred.float()\n",
        "\n",
        "        # Apply NMS\n",
        "        pred = non_max_suppression(pred, conf_thres, iou_thres,\n",
        "                                   multi_label=False, classes=classes, agnostic=agnostic_nms)\n",
        "        \n",
        "        # Apply Classifier\n",
        "        if classify:\n",
        "            pred = apply_classifier(pred, modelc, img, im0s)\n",
        "\n",
        "        # Process detections\n",
        "        for i, det in enumerate(pred):  # detections for image i\n",
        "            p, s, im0 = path, '', im0s\n",
        "\n",
        "            save_path = str(Path(out) / Path(p).name)\n",
        "            s += '%gx%g ' % img.shape[2:]  # print string\n",
        "            gn = torch.tensor(im0.shape)[[1, 0, 1, 0]]  #  normalization gain whwh\n",
        "            if det is not None and len(det):\n",
        "                # Rescale boxes from imgsz to im0 size\n",
        "                det[:, :4] = scale_coords(img.shape[2:], det[:, :4], im0.shape).round()\n",
        "\n",
        "                # Print results\n",
        "                for c in det[:, -1].detach().unique():\n",
        "                    n = (det[:, -1] == c).sum()  # detections per class\n",
        "                    s += '%g %ss, ' % (n, names[int(c)])  # add to string\n",
        "\n",
        "                # Write results\n",
        "                for *xyxy, conf, cls in reversed(det):\n",
        "                    if save_txt:  # Write to file\n",
        "                        xywh = (xyxy2xywh(torch.tensor(xyxy).view(1, 4)) / gn).view(-1).tolist()  # normalized xywh\n",
        "                        with open(save_path[:save_path.rfind('.')] + '.txt', 'a') as file:\n",
        "                            file.write(('%g ' * 5 + '\\n') % (cls, *xywh))  # label format\n",
        "\n",
        "                    if save_img or view_img:  # Add bbox to image\n",
        "                        label = '%s %.2f' % (names[int(cls)], conf)\n",
        "                        plot_one_box(xyxy, im0, label=label, color=colors[int(cls)])\n",
        "\n",
        "            # Print time (inference + NMS)\n",
        "            print('%sDone. (%.3fs)' % (s, t2 - t1))\n",
        "\n",
        "            # Stream results\n",
        "            if view_img:\n",
        "                cv2.imshow(p, im0)\n",
        "                if cv2.waitKey(1) == ord('q'):  # q to quit\n",
        "                    raise StopIteration\n",
        "\n",
        "            # Save results (image with detections)\n",
        "            if save_img:\n",
        "                if dataset.mode == 'images':\n",
        "                    cv2.imwrite(save_path, im0)\n",
        "                else:\n",
        "                    if vid_path != save_path:  # new video\n",
        "                        vid_path = save_path\n",
        "                        if isinstance(vid_writer, cv2.VideoWriter):\n",
        "                            vid_writer.release()  # release previous video writer\n",
        "\n",
        "                        fps = vid_cap.get(cv2.CAP_PROP_FPS)\n",
        "                        w = int(vid_cap.get(cv2.CAP_PROP_FRAME_WIDTH))\n",
        "                        h = int(vid_cap.get(cv2.CAP_PROP_FRAME_HEIGHT))\n",
        "                        vid_writer = cv2.VideoWriter(save_path, cv2.VideoWriter_fourcc(*fourcc), fps, (w, h))\n",
        "                    vid_writer.write(im0)\n",
        "\n",
        "    if save_txt or save_img:\n",
        "        print('Results saved to %s' % os.getcwd() + os.sep + out)\n",
        "        if platform == 'darwin':  # MacOS\n",
        "            os.system('open ' + save_path)\n",
        "\n",
        "    print('Done. (%.3fs)' % (time.time() - t0))\n",
        "    print('save path: ')\n",
        "    out_path=os.getcwd() + os.sep + save_path\n",
        "    return out_path"
      ],
      "execution_count": 62,
      "outputs": []
    },
    {
      "cell_type": "code",
      "metadata": {
        "id": "1EgPUrlaeC5l",
        "colab_type": "code",
        "colab": {}
      },
      "source": [
        "def FN(img,choice):\n",
        "    if choice ==  \"Sensitive Label Detection\":\n",
        "        #!cd /content/grive/My Drive/Colab Notebooks/sensitive_label_detection/yolov3\n",
        "        return sensitive_label_detect(img)\n",
        "    elif choice ==  \"ID Card Detection\":\n",
        "        !cd /content/grive/My Drive/Colab Notebooks/ID_card_detection/yolov3\n",
        "        import models\n",
        "        import utils\n",
        "        return ID_card_detect(img)"
      ],
      "execution_count": 65,
      "outputs": []
    },
    {
      "cell_type": "code",
      "metadata": {
        "id": "DrkC0RyVZYfi",
        "colab_type": "code",
        "colab": {
          "base_uri": "https://localhost:8080/",
          "height": 1000
        },
        "outputId": "bcdc98e9-c985-4911-bcfb-52bacfe90490"
      },
      "source": [
        "image = gr.inputs.Image()\n",
        "radio = gr.inputs.Radio([\"Sensitive Label Detection\", \"ID Card Detection\"])\n",
        "\n",
        "label = gr.outputs.Image(label = 'Result', type='file')\n",
        "#checked = gr.outputs.text()\n",
        "\n",
        "gr.Interface(fn= FN, inputs=[image,radio], outputs=label, capture_session=True).launch(debug=True) \n",
        "# if radio == \"Sensitive Label Detection\":\n",
        "#     FN = sensitive_label_detect\n",
        "# elif radio == \"ID Card Detection\":\n",
        "#     FN = ID_card_detect\n"
      ],
      "execution_count": 66,
      "outputs": [
        {
          "output_type": "stream",
          "text": [
            "Colab notebook detected. This cell will run indefinitely so that you can see errors and logs. To turn off, set debug=False in launch().\n",
            "Running on External URL: https://24629.gradio.app\n",
            "Interface loading below...\n"
          ],
          "name": "stdout"
        },
        {
          "output_type": "display_data",
          "data": {
            "text/html": [
              "\n",
              "        <iframe\n",
              "            width=\"1000\"\n",
              "            height=\"500\"\n",
              "            src=\"https://24629.gradio.app\"\n",
              "            frameborder=\"0\"\n",
              "            allowfullscreen\n",
              "        ></iframe>\n",
              "        "
            ],
            "text/plain": [
              "<IPython.lib.display.IFrame at 0x7fd1f7fc5860>"
            ]
          },
          "metadata": {
            "tags": []
          }
        },
        {
          "output_type": "stream",
          "text": [
            "/bin/bash: line 0: cd: too many arguments\n",
            "Using CUDA device0 _CudaDeviceProperties(name='Tesla P100-PCIE-16GB', total_memory=16280MB)\n",
            "\n",
            "Model Summary: 37 layers, 8.66988e+06 parameters, 8.66988e+06 gradients\n",
            "image 1/1 test.jpeg: 512x320 1 ID_cards, Done. (0.004s)\n",
            "Results saved to /content/grive/My Drive/Colab Notebooks/sensitive_label_detection/yolov3/output\n",
            "Done. (0.087s)\n",
            "save path: \n",
            "Using CUDA device0 _CudaDeviceProperties(name='Tesla P100-PCIE-16GB', total_memory=16280MB)\n",
            "\n",
            "Model Summary: 37 layers, 8.07261e+06 parameters, 8.07261e+06 gradients\n",
            "image 1/1 test.jpeg: 512x384 3 sensitive_labels, Done. (0.004s)\n",
            "Results saved to /content/grive/My Drive/Colab Notebooks/sensitive_label_detection/yolov3/output\n",
            "Done. (0.085s)\n",
            "save path: \n",
            "/bin/bash: line 0: cd: too many arguments\n",
            "Using CUDA device0 _CudaDeviceProperties(name='Tesla P100-PCIE-16GB', total_memory=16280MB)\n",
            "\n",
            "Model Summary: 37 layers, 8.66988e+06 parameters, 8.66988e+06 gradients\n",
            "image 1/1 test.jpeg: 512x320 Done. (0.005s)\n",
            "Results saved to /content/grive/My Drive/Colab Notebooks/sensitive_label_detection/yolov3/output\n",
            "Done. (0.085s)\n",
            "save path: \n",
            "/bin/bash: line 0: cd: too many arguments\n",
            "Using CUDA device0 _CudaDeviceProperties(name='Tesla P100-PCIE-16GB', total_memory=16280MB)\n",
            "\n",
            "Model Summary: 37 layers, 8.66988e+06 parameters, 8.66988e+06 gradients\n",
            "image 1/1 test.jpeg: 512x320 1 ID_cards, Done. (0.004s)\n",
            "Results saved to /content/grive/My Drive/Colab Notebooks/sensitive_label_detection/yolov3/output\n",
            "Done. (0.090s)\n",
            "save path: \n",
            "/bin/bash: line 0: cd: too many arguments\n",
            "Using CUDA device0 _CudaDeviceProperties(name='Tesla P100-PCIE-16GB', total_memory=16280MB)\n",
            "\n",
            "Model Summary: 37 layers, 8.66988e+06 parameters, 8.66988e+06 gradients\n",
            "image 1/1 test.jpeg: 512x320 Done. (0.003s)\n",
            "Results saved to /content/grive/My Drive/Colab Notebooks/sensitive_label_detection/yolov3/output\n",
            "Done. (0.072s)\n",
            "save path: \n",
            "Using CUDA device0 _CudaDeviceProperties(name='Tesla P100-PCIE-16GB', total_memory=16280MB)\n",
            "\n",
            "Model Summary: 37 layers, 8.07261e+06 parameters, 8.07261e+06 gradients\n",
            "image 1/1 test.jpeg: 512x384 Done. (0.005s)\n",
            "Results saved to /content/grive/My Drive/Colab Notebooks/sensitive_label_detection/yolov3/output\n",
            "Done. (0.109s)\n",
            "save path: \n",
            "Using CUDA device0 _CudaDeviceProperties(name='Tesla P100-PCIE-16GB', total_memory=16280MB)\n",
            "\n",
            "Model Summary: 37 layers, 8.07261e+06 parameters, 8.07261e+06 gradients\n",
            "image 1/1 test.jpeg: 384x512 Done. (0.004s)\n",
            "Results saved to /content/grive/My Drive/Colab Notebooks/sensitive_label_detection/yolov3/output\n",
            "Done. (0.095s)\n",
            "save path: \n",
            "Using CUDA device0 _CudaDeviceProperties(name='Tesla P100-PCIE-16GB', total_memory=16280MB)\n",
            "\n",
            "Model Summary: 37 layers, 8.07261e+06 parameters, 8.07261e+06 gradients\n",
            "image 1/1 test.jpeg: 384x512 Done. (0.004s)\n",
            "Results saved to /content/grive/My Drive/Colab Notebooks/sensitive_label_detection/yolov3/output\n",
            "Done. (0.084s)\n",
            "save path: \n",
            "Using CUDA device0 _CudaDeviceProperties(name='Tesla P100-PCIE-16GB', total_memory=16280MB)\n",
            "\n",
            "Model Summary: 37 layers, 8.07261e+06 parameters, 8.07261e+06 gradients\n",
            "image 1/1 test.jpeg: 384x512 Done. (0.004s)\n",
            "Results saved to /content/grive/My Drive/Colab Notebooks/sensitive_label_detection/yolov3/output\n",
            "Done. (0.090s)\n",
            "save path: \n",
            "Using CUDA device0 _CudaDeviceProperties(name='Tesla P100-PCIE-16GB', total_memory=16280MB)\n",
            "\n",
            "Model Summary: 37 layers, 8.07261e+06 parameters, 8.07261e+06 gradients\n",
            "image 1/1 test.jpeg: 384x512 Done. (0.003s)\n",
            "Results saved to /content/grive/My Drive/Colab Notebooks/sensitive_label_detection/yolov3/output\n",
            "Done. (0.082s)\n",
            "save path: \n",
            "Using CUDA device0 _CudaDeviceProperties(name='Tesla P100-PCIE-16GB', total_memory=16280MB)\n",
            "\n",
            "Model Summary: 37 layers, 8.07261e+06 parameters, 8.07261e+06 gradients\n",
            "image 1/1 test.jpeg: 384x512 Done. (0.007s)\n",
            "Results saved to /content/grive/My Drive/Colab Notebooks/sensitive_label_detection/yolov3/output\n",
            "Done. (0.102s)\n",
            "save path: \n"
          ],
          "name": "stdout"
        },
        {
          "output_type": "error",
          "ename": "KeyboardInterrupt",
          "evalue": "ignored",
          "traceback": [
            "\u001b[0;31m---------------------------------------------------------------------------\u001b[0m",
            "\u001b[0;31mKeyboardInterrupt\u001b[0m                         Traceback (most recent call last)",
            "\u001b[0;32m<ipython-input-66-1e1494514d91>\u001b[0m in \u001b[0;36m<module>\u001b[0;34m()\u001b[0m\n\u001b[1;32m      5\u001b[0m \u001b[0;31m#checked = gr.outputs.text()\u001b[0m\u001b[0;34m\u001b[0m\u001b[0;34m\u001b[0m\u001b[0;34m\u001b[0m\u001b[0m\n\u001b[1;32m      6\u001b[0m \u001b[0;34m\u001b[0m\u001b[0m\n\u001b[0;32m----> 7\u001b[0;31m \u001b[0mgr\u001b[0m\u001b[0;34m.\u001b[0m\u001b[0mInterface\u001b[0m\u001b[0;34m(\u001b[0m\u001b[0mfn\u001b[0m\u001b[0;34m=\u001b[0m \u001b[0mFN\u001b[0m\u001b[0;34m,\u001b[0m \u001b[0minputs\u001b[0m\u001b[0;34m=\u001b[0m\u001b[0;34m[\u001b[0m\u001b[0mimage\u001b[0m\u001b[0;34m,\u001b[0m\u001b[0mradio\u001b[0m\u001b[0;34m]\u001b[0m\u001b[0;34m,\u001b[0m \u001b[0moutputs\u001b[0m\u001b[0;34m=\u001b[0m\u001b[0mlabel\u001b[0m\u001b[0;34m,\u001b[0m \u001b[0mcapture_session\u001b[0m\u001b[0;34m=\u001b[0m\u001b[0;32mTrue\u001b[0m\u001b[0;34m)\u001b[0m\u001b[0;34m.\u001b[0m\u001b[0mlaunch\u001b[0m\u001b[0;34m(\u001b[0m\u001b[0mdebug\u001b[0m\u001b[0;34m=\u001b[0m\u001b[0;32mTrue\u001b[0m\u001b[0;34m)\u001b[0m\u001b[0;34m\u001b[0m\u001b[0;34m\u001b[0m\u001b[0m\n\u001b[0m\u001b[1;32m      8\u001b[0m \u001b[0;31m# if radio == \"Sensitive Label Detection\":\u001b[0m\u001b[0;34m\u001b[0m\u001b[0;34m\u001b[0m\u001b[0;34m\u001b[0m\u001b[0m\n\u001b[1;32m      9\u001b[0m \u001b[0;31m#     FN = sensitive_label_detect\u001b[0m\u001b[0;34m\u001b[0m\u001b[0;34m\u001b[0m\u001b[0;34m\u001b[0m\u001b[0m\n",
            "\u001b[0;32m/usr/local/lib/python3.6/dist-packages/gradio/interface.py\u001b[0m in \u001b[0;36mlaunch\u001b[0;34m(self, inline, inbrowser, share, debug)\u001b[0m\n\u001b[1;32m    380\u001b[0m             \u001b[0;32mwhile\u001b[0m \u001b[0;32mTrue\u001b[0m\u001b[0;34m:\u001b[0m\u001b[0;34m\u001b[0m\u001b[0;34m\u001b[0m\u001b[0m\n\u001b[1;32m    381\u001b[0m                 \u001b[0msys\u001b[0m\u001b[0;34m.\u001b[0m\u001b[0mstdout\u001b[0m\u001b[0;34m.\u001b[0m\u001b[0mflush\u001b[0m\u001b[0;34m(\u001b[0m\u001b[0;34m)\u001b[0m\u001b[0;34m\u001b[0m\u001b[0;34m\u001b[0m\u001b[0m\n\u001b[0;32m--> 382\u001b[0;31m                 \u001b[0mtime\u001b[0m\u001b[0;34m.\u001b[0m\u001b[0msleep\u001b[0m\u001b[0;34m(\u001b[0m\u001b[0;36m0.1\u001b[0m\u001b[0;34m)\u001b[0m\u001b[0;34m\u001b[0m\u001b[0;34m\u001b[0m\u001b[0m\n\u001b[0m\u001b[1;32m    383\u001b[0m \u001b[0;34m\u001b[0m\u001b[0m\n\u001b[1;32m    384\u001b[0m         \u001b[0mlaunch_method\u001b[0m \u001b[0;34m=\u001b[0m \u001b[0;34m'browser'\u001b[0m \u001b[0;32mif\u001b[0m \u001b[0minbrowser\u001b[0m \u001b[0;32melse\u001b[0m \u001b[0;34m'inline'\u001b[0m\u001b[0;34m\u001b[0m\u001b[0;34m\u001b[0m\u001b[0m\n",
            "\u001b[0;31mKeyboardInterrupt\u001b[0m: "
          ]
        }
      ]
    },
    {
      "cell_type": "code",
      "metadata": {
        "id": "ngJ9lgAKdfvg",
        "colab_type": "code",
        "colab": {}
      },
      "source": [
        ""
      ],
      "execution_count": null,
      "outputs": []
    }
  ]
}